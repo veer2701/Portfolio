{
 "cells": [
  {
   "cell_type": "markdown",
   "id": "4134cf16",
   "metadata": {},
   "source": [
    "## Introduction to Keras callbacks\n",
    "In Keras, Callback is a Python class meant to be subclassed to provide specific functionality, with a set of methods called at various stages of training (including batch/epoch start and ends), testing, and predicting. Callbacks are useful to get a view on internal states and statistics of the model during training. The methods of the callbacks can be called at different stages of training/evaluating/inference. Keras has available callbacks and we'll show how you can use it in the following sections. Please click the Open in Colab badge above to complete this exercise in Colab. This will allow you to take advantage of the free GPU runtime (for faster training) and compatibility with all the packages needed in this notebook.\n",
    "\n",
    "## Model methods that take callbacks\n",
    "Users can supply a list of callbacks to the following tf.keras.Model methods:\n",
    "\n",
    "- fit(), fit_generator() Trains the model for a fixed number of epochs (iterations over a dataset, or data yielded batch-by-batch by a Python generator).\n",
    "- evaluate(), evaluate_generator() Evaluates the model for given data or data generator. Outputs the loss and metric values from the evaluation.\n",
    "- predict(), predict_generator() Generates output predictions for the input data or data generator."
   ]
  },
  {
   "cell_type": "code",
   "execution_count": 1,
   "id": "95b2e8b5",
   "metadata": {},
   "outputs": [
    {
     "name": "stdout",
     "output_type": "stream",
     "text": [
      "Version:  2.9.0-dev20220315\n"
     ]
    }
   ],
   "source": [
    "from __future__ import absolute_import, division, print_function, unicode_literals\n",
    "\n",
    "try:\n",
    "    # %tensorflow_version only exists in Colab.\n",
    "    %tensorflow_version 2.x\n",
    "except Exception:\n",
    "    pass\n",
    "\n",
    "import tensorflow as tf\n",
    "import tensorflow_datasets as tfds\n",
    "import matplotlib.pyplot as plt\n",
    "import io\n",
    "from PIL import Image\n",
    "\n",
    "from tensorflow.keras.callbacks import TensorBoard, EarlyStopping, LearningRateScheduler, ModelCheckpoint, CSVLogger, ReduceLROnPlateau\n",
    "%load_ext tensorboard\n",
    "\n",
    "import os\n",
    "import matplotlib.pylab as plt\n",
    "import numpy as np\n",
    "import math\n",
    "import datetime\n",
    "import pandas as pd\n",
    "\n",
    "print(\"Version: \", tf.__version__)\n",
    "tf.get_logger().setLevel('INFO')"
   ]
  },
  {
   "cell_type": "markdown",
   "id": "eff8d4a1",
   "metadata": {},
   "source": [
    "## Examples of Keras callback applications\n",
    "The following section will guide you through creating simple Callback applications."
   ]
  },
  {
   "cell_type": "code",
   "execution_count": 2,
   "id": "6fea5c4b",
   "metadata": {},
   "outputs": [],
   "source": [
    "# Download and prepare the horses or humans dataset\n",
    "\n",
    "splits, info = tfds.load('horses_or_humans', as_supervised=True, with_info=True, split=['train[:80%]', 'train[80%:]', 'test'])\n",
    "\n",
    "(train_examples, validation_examples, test_examples) = splits\n",
    "\n",
    "num_examples = info.splits['train'].num_examples\n",
    "num_classes = info.features['label'].num_classes"
   ]
  },
  {
   "cell_type": "code",
   "execution_count": 3,
   "id": "ff2a0e6d",
   "metadata": {},
   "outputs": [],
   "source": [
    "SIZE = 150 #@param {type:\"slider\", min:64, max:300, step:1}\n",
    "IMAGE_SIZE = (SIZE, SIZE)"
   ]
  },
  {
   "cell_type": "code",
   "execution_count": 4,
   "id": "cff89a71",
   "metadata": {},
   "outputs": [],
   "source": [
    "def format_image(image, label):\n",
    "    image = tf.image.resize(image, IMAGE_SIZE) / 255.0\n",
    "    return  image, label"
   ]
  },
  {
   "cell_type": "code",
   "execution_count": 5,
   "id": "3929e70a",
   "metadata": {},
   "outputs": [],
   "source": [
    "BATCH_SIZE = 32 #@param {type:\"integer\"}"
   ]
  },
  {
   "cell_type": "code",
   "execution_count": 6,
   "id": "9a8b4475",
   "metadata": {},
   "outputs": [],
   "source": [
    "train_batches = train_examples.shuffle(num_examples // 4).map(format_image).batch(BATCH_SIZE).prefetch(1)\n",
    "validation_batches = validation_examples.map(format_image).batch(BATCH_SIZE).prefetch(1)\n",
    "test_batches = test_examples.map(format_image).batch(1)"
   ]
  },
  {
   "cell_type": "code",
   "execution_count": 7,
   "id": "caccbbb5",
   "metadata": {},
   "outputs": [
    {
     "data": {
      "text/plain": [
       "TensorShape([32, 150, 150, 3])"
      ]
     },
     "execution_count": 7,
     "metadata": {},
     "output_type": "execute_result"
    }
   ],
   "source": [
    "for image_batch, label_batch in train_batches.take(1):\n",
    "    pass\n",
    "\n",
    "image_batch.shape"
   ]
  },
  {
   "cell_type": "code",
   "execution_count": 8,
   "id": "162ae038",
   "metadata": {},
   "outputs": [],
   "source": [
    "def build_model(dense_units, input_shape=IMAGE_SIZE + (3,)):\n",
    "  model = tf.keras.models.Sequential([\n",
    "      tf.keras.layers.Conv2D(16, (3, 3), activation='relu', input_shape=input_shape),\n",
    "      tf.keras.layers.MaxPooling2D(2, 2),\n",
    "      tf.keras.layers.Conv2D(32, (3, 3), activation='relu'),\n",
    "      tf.keras.layers.MaxPooling2D(2, 2),\n",
    "      tf.keras.layers.Conv2D(64, (3, 3), activation='relu'),\n",
    "      tf.keras.layers.MaxPooling2D(2, 2),\n",
    "      tf.keras.layers.Flatten(),\n",
    "      tf.keras.layers.Dense(dense_units, activation='relu'),\n",
    "      tf.keras.layers.Dense(2, activation='softmax')\n",
    "  ])\n",
    "  return model"
   ]
  },
  {
   "cell_type": "markdown",
   "id": "0c6c086a",
   "metadata": {},
   "source": [
    "## TensorBoard\n",
    "\n",
    "Enable visualizations for TensorBoard."
   ]
  },
  {
   "cell_type": "code",
   "execution_count": 9,
   "id": "c3365b39",
   "metadata": {},
   "outputs": [
    {
     "name": "stdout",
     "output_type": "stream",
     "text": [
      "Epoch 1/10\n",
      "26/26 [==============================] - 10s 340ms/step - loss: 0.6712 - accuracy: 0.5925 - val_loss: 0.6407 - val_accuracy: 0.6976\n",
      "Epoch 2/10\n",
      "26/26 [==============================] - 8s 324ms/step - loss: 0.6032 - accuracy: 0.6898 - val_loss: 0.6014 - val_accuracy: 0.6244\n",
      "Epoch 3/10\n",
      "26/26 [==============================] - 8s 315ms/step - loss: 0.5515 - accuracy: 0.7275 - val_loss: 0.5149 - val_accuracy: 0.7610\n",
      "Epoch 4/10\n",
      "26/26 [==============================] - 10s 370ms/step - loss: 0.5145 - accuracy: 0.7652 - val_loss: 0.4621 - val_accuracy: 0.7561\n",
      "Epoch 5/10\n",
      "26/26 [==============================] - 9s 336ms/step - loss: 0.4804 - accuracy: 0.7749 - val_loss: 0.4616 - val_accuracy: 0.8195\n",
      "Epoch 6/10\n",
      "26/26 [==============================] - 9s 336ms/step - loss: 0.3994 - accuracy: 0.8321 - val_loss: 0.3741 - val_accuracy: 0.8049\n",
      "Epoch 7/10\n",
      "26/26 [==============================] - 9s 334ms/step - loss: 0.3762 - accuracy: 0.8491 - val_loss: 0.3272 - val_accuracy: 0.8146\n",
      "Epoch 8/10\n",
      "26/26 [==============================] - 9s 328ms/step - loss: 0.3270 - accuracy: 0.8540 - val_loss: 0.2955 - val_accuracy: 0.8585\n",
      "Epoch 9/10\n",
      "26/26 [==============================] - 9s 345ms/step - loss: 0.2883 - accuracy: 0.8844 - val_loss: 0.4113 - val_accuracy: 0.7707\n",
      "Epoch 10/10\n",
      "26/26 [==============================] - 8s 310ms/step - loss: 0.2409 - accuracy: 0.9148 - val_loss: 0.1879 - val_accuracy: 0.9415\n"
     ]
    },
    {
     "data": {
      "text/plain": [
       "<keras.callbacks.History at 0x2598a8b28e0>"
      ]
     },
     "execution_count": 9,
     "metadata": {},
     "output_type": "execute_result"
    }
   ],
   "source": [
    "model = build_model(dense_units=256)\n",
    "model.compile(\n",
    "    optimizer='sgd',\n",
    "    loss='sparse_categorical_crossentropy', \n",
    "    metrics=['accuracy'])\n",
    "  \n",
    "logdir = os.path.join(\"logs\", datetime.datetime.now().strftime(\"%Y%m%d-%H%M%S\"))\n",
    "tensorboard_callback = tf.keras.callbacks.TensorBoard(logdir)\n",
    "\n",
    "model.fit(train_batches, \n",
    "          epochs=10, \n",
    "          validation_data=validation_batches, \n",
    "          callbacks=[tensorboard_callback])"
   ]
  },
  {
   "cell_type": "code",
   "execution_count": 10,
   "id": "be588b32",
   "metadata": {},
   "outputs": [
    {
     "data": {
      "text/plain": [
       "ERROR: Failed to launch TensorBoard (exited with 1).\n",
       "Contents of stderr:\n",
       "2022-04-01 08:07:32.678335: W tensorflow/stream_executor/platform/default/dso_loader.cc:64] Could not load dynamic library 'cudart64_110.dll'; dlerror: cudart64_110.dll not found\n",
       "2022-04-01 08:07:36.784358: W tensorflow/stream_executor/platform/default/dso_loader.cc:64] Could not load dynamic library 'cudart64_110.dll'; dlerror: cudart64_110.dll not found\n",
       "2022-04-01 08:07:36.785290: W tensorflow/stream_executor/platform/default/dso_loader.cc:64] Could not load dynamic library 'cublas64_11.dll'; dlerror: cublas64_11.dll not found\n",
       "2022-04-01 08:07:36.786220: W tensorflow/stream_executor/platform/default/dso_loader.cc:64] Could not load dynamic library 'cublasLt64_11.dll'; dlerror: cublasLt64_11.dll not found\n",
       "2022-04-01 08:07:36.787257: W tensorflow/stream_executor/platform/default/dso_loader.cc:64] Could not load dynamic library 'cufft64_10.dll'; dlerror: cufft64_10.dll not found\n",
       "2022-04-01 08:07:36.788122: W tensorflow/stream_executor/platform/default/dso_loader.cc:64] Could not load dynamic library 'curand64_10.dll'; dlerror: curand64_10.dll not found\n",
       "2022-04-01 08:07:36.789265: W tensorflow/stream_executor/platform/default/dso_loader.cc:64] Could not load dynamic library 'cusolver64_11.dll'; dlerror: cusolver64_11.dll not found\n",
       "2022-04-01 08:07:36.790835: W tensorflow/stream_executor/platform/default/dso_loader.cc:64] Could not load dynamic library 'cusparse64_11.dll'; dlerror: cusparse64_11.dll not found\n",
       "2022-04-01 08:07:36.792249: W tensorflow/stream_executor/platform/default/dso_loader.cc:64] Could not load dynamic library 'cudnn64_8.dll'; dlerror: cudnn64_8.dll not found\n",
       "2022-04-01 08:07:36.792289: W tensorflow/core/common_runtime/gpu/gpu_device.cc:1857] Cannot dlopen some GPU libraries. Please make sure the missing libraries mentioned above are installed properly if you would like to use GPU. Follow the guide at https://www.tensorflow.org/install/gpu for how to download and setup the required libraries for your platform.\n",
       "Skipping registering GPU devices...\n",
       "Traceback (most recent call last):\n",
       "  File \"C:\\Users\\USER\\anaconda3\\lib\\runpy.py\", line 197, in _run_module_as_main\n",
       "    return _run_code(code, main_globals, None,\n",
       "  File \"C:\\Users\\USER\\anaconda3\\lib\\runpy.py\", line 87, in _run_code\n",
       "    exec(code, run_globals)\n",
       "  File \"C:\\Users\\USER\\anaconda3\\Scripts\\tensorboard.exe\\__main__.py\", line 7, in <module>\n",
       "  File \"C:\\Users\\USER\\anaconda3\\lib\\site-packages\\tensorboard\\main.py\", line 46, in run_main\n",
       "    app.run(tensorboard.main, flags_parser=tensorboard.configure)\n",
       "  File \"C:\\Users\\USER\\anaconda3\\lib\\site-packages\\absl\\app.py\", line 312, in run\n",
       "    _run_main(main, args)\n",
       "  File \"C:\\Users\\USER\\anaconda3\\lib\\site-packages\\absl\\app.py\", line 258, in _run_main\n",
       "    sys.exit(main(argv))\n",
       "  File \"C:\\Users\\USER\\anaconda3\\lib\\site-packages\\tensorboard\\program.py\", line 276, in main\n",
       "    return runner(self.flags) or 0\n",
       "  File \"C:\\Users\\USER\\anaconda3\\lib\\site-packages\\tensorboard\\program.py\", line 292, in _run_serve_subcommand\n",
       "    server = self._make_server()\n",
       "  File \"C:\\Users\\USER\\anaconda3\\lib\\site-packages\\tensorboard\\program.py\", line 467, in _make_server\n",
       "    app = application.TensorBoardWSGIApp(\n",
       "  File \"C:\\Users\\USER\\anaconda3\\lib\\site-packages\\tensorboard\\backend\\application.py\", line 139, in TensorBoardWSGIApp\n",
       "    return TensorBoardWSGI(\n",
       "  File \"C:\\Users\\USER\\anaconda3\\lib\\site-packages\\tensorboard\\backend\\application.py\", line 252, in __init__\n",
       "    raise ValueError(\n",
       "ValueError: Duplicate plugins for name projector"
      ]
     },
     "metadata": {},
     "output_type": "display_data"
    }
   ],
   "source": [
    "%tensorboard --logdir logs"
   ]
  },
  {
   "cell_type": "code",
   "execution_count": 11,
   "id": "a2de553b",
   "metadata": {},
   "outputs": [
    {
     "name": "stdout",
     "output_type": "stream",
     "text": [
      "\n",
      "Epoch 1: saving model to saved_model\n"
     ]
    },
    {
     "name": "stderr",
     "output_type": "stream",
     "text": [
      "WARNING:absl:Found untraced functions such as _jit_compiled_convolution_op, _jit_compiled_convolution_op, _jit_compiled_convolution_op while saving (showing 3 of 3). These functions will not be directly callable after loading.\n"
     ]
    },
    {
     "name": "stdout",
     "output_type": "stream",
     "text": [
      "INFO:tensorflow:Assets written to: saved_model\\assets\n"
     ]
    },
    {
     "name": "stderr",
     "output_type": "stream",
     "text": [
      "INFO:tensorflow:Assets written to: saved_model\\assets\n"
     ]
    },
    {
     "name": "stdout",
     "output_type": "stream",
     "text": [
      "26/26 - 10s - loss: 0.6752 - accuracy: 0.5584 - val_loss: 0.6785 - val_accuracy: 0.4341 - 10s/epoch - 366ms/step\n"
     ]
    },
    {
     "data": {
      "text/plain": [
       "<keras.callbacks.History at 0x2598bdba700>"
      ]
     },
     "execution_count": 11,
     "metadata": {},
     "output_type": "execute_result"
    }
   ],
   "source": [
    "model = build_model(dense_units=256)\n",
    "model.compile(\n",
    "    optimizer='sgd',\n",
    "    loss='sparse_categorical_crossentropy', \n",
    "    metrics=['accuracy'])\n",
    "  \n",
    "model.fit(train_batches, \n",
    "          epochs=1, \n",
    "          validation_data=validation_batches, \n",
    "          verbose=2,\n",
    "          callbacks=[ModelCheckpoint('saved_model', verbose=1)\n",
    "          ])"
   ]
  },
  {
   "cell_type": "code",
   "execution_count": 12,
   "id": "6054a78f",
   "metadata": {},
   "outputs": [
    {
     "name": "stdout",
     "output_type": "stream",
     "text": [
      "Epoch 1/2\n",
      "\n",
      "Epoch 1: saving model to model.h5\n",
      "26/26 - 9s - loss: 0.6674 - accuracy: 0.6083 - val_loss: 0.6679 - val_accuracy: 0.5024 - 9s/epoch - 357ms/step\n",
      "Epoch 2/2\n",
      "\n",
      "Epoch 2: saving model to model.h5\n",
      "26/26 - 8s - loss: 0.6247 - accuracy: 0.6740 - val_loss: 0.5852 - val_accuracy: 0.7756 - 8s/epoch - 316ms/step\n"
     ]
    },
    {
     "data": {
      "text/plain": [
       "<keras.callbacks.History at 0x2598bfc5340>"
      ]
     },
     "execution_count": 12,
     "metadata": {},
     "output_type": "execute_result"
    }
   ],
   "source": [
    "model = build_model(dense_units=256)\n",
    "model.compile(\n",
    "    optimizer='sgd',\n",
    "    loss='sparse_categorical_crossentropy', \n",
    "    metrics=['accuracy'])\n",
    "  \n",
    "model.fit(train_batches, \n",
    "          epochs=2, \n",
    "          validation_data=validation_batches, \n",
    "          verbose=2,\n",
    "          callbacks=[ModelCheckpoint('model.h5', verbose=1)\n",
    "          ])"
   ]
  },
  {
   "cell_type": "markdown",
   "id": "e27c2ffb",
   "metadata": {},
   "source": [
    "## Early stopping\n",
    "Stop training when a monitored metric has stopped improving."
   ]
  },
  {
   "cell_type": "code",
   "execution_count": 13,
   "id": "cb807b2b",
   "metadata": {},
   "outputs": [
    {
     "name": "stdout",
     "output_type": "stream",
     "text": [
      "Epoch 1/50\n",
      "26/26 - 8s - loss: 0.6686 - accuracy: 0.5961 - val_loss: 0.6443 - val_accuracy: 0.6488 - 8s/epoch - 323ms/step\n",
      "Epoch 2/50\n",
      "26/26 - 8s - loss: 0.6142 - accuracy: 0.7092 - val_loss: 0.5965 - val_accuracy: 0.7073 - 8s/epoch - 308ms/step\n",
      "Epoch 3/50\n",
      "26/26 - 8s - loss: 0.5574 - accuracy: 0.7384 - val_loss: 0.5535 - val_accuracy: 0.7366 - 8s/epoch - 315ms/step\n",
      "Epoch 4/50\n",
      "26/26 - 10s - loss: 0.5125 - accuracy: 0.7555 - val_loss: 0.4992 - val_accuracy: 0.7805 - 10s/epoch - 369ms/step\n",
      "Epoch 5/50\n",
      "26/26 - 8s - loss: 0.4396 - accuracy: 0.8273 - val_loss: 0.4575 - val_accuracy: 0.8098 - 8s/epoch - 312ms/step\n",
      "Epoch 6/50\n",
      "26/26 - 8s - loss: 0.4073 - accuracy: 0.8236 - val_loss: 0.4535 - val_accuracy: 0.8098 - 8s/epoch - 304ms/step\n",
      "Epoch 7/50\n",
      "Restoring model weights from the end of the best epoch: 4.\n",
      "26/26 - 8s - loss: 0.3189 - accuracy: 0.8929 - val_loss: 0.7979 - val_accuracy: 0.6098 - 8s/epoch - 304ms/step\n",
      "Epoch 7: early stopping\n"
     ]
    },
    {
     "data": {
      "text/plain": [
       "<keras.callbacks.History at 0x2598c14f040>"
      ]
     },
     "execution_count": 13,
     "metadata": {},
     "output_type": "execute_result"
    }
   ],
   "source": [
    "model = build_model(dense_units=256)\n",
    "model.compile(\n",
    "    optimizer='sgd',\n",
    "    loss='sparse_categorical_crossentropy', \n",
    "    metrics=['accuracy'])\n",
    "  \n",
    "model.fit(train_batches, \n",
    "          epochs=50, \n",
    "          validation_data=validation_batches, \n",
    "          verbose=2,\n",
    "          callbacks=[EarlyStopping(\n",
    "              patience=3,\n",
    "              min_delta=0.05,\n",
    "              baseline=0.8,\n",
    "              mode='min',\n",
    "              monitor='val_loss',\n",
    "              restore_best_weights=True,\n",
    "              verbose=1)\n",
    "          ])"
   ]
  },
  {
   "cell_type": "markdown",
   "id": "e9adef2f",
   "metadata": {},
   "source": [
    "## CSV Logger\n",
    "Callback that streams epoch results to a CSV file."
   ]
  },
  {
   "cell_type": "code",
   "execution_count": 14,
   "id": "3ab69f61",
   "metadata": {},
   "outputs": [
    {
     "name": "stdout",
     "output_type": "stream",
     "text": [
      "Epoch 1/5\n",
      "26/26 [==============================] - 8s 315ms/step - loss: 0.6676 - accuracy: 0.5912 - val_loss: 0.6387 - val_accuracy: 0.7756\n",
      "Epoch 2/5\n",
      "26/26 [==============================] - 8s 305ms/step - loss: 0.6198 - accuracy: 0.6800 - val_loss: 0.6462 - val_accuracy: 0.5073\n",
      "Epoch 3/5\n",
      "26/26 [==============================] - 8s 314ms/step - loss: 0.5603 - accuracy: 0.7518 - val_loss: 0.5735 - val_accuracy: 0.6098\n",
      "Epoch 4/5\n",
      "26/26 [==============================] - 8s 315ms/step - loss: 0.4956 - accuracy: 0.7871 - val_loss: 0.6885 - val_accuracy: 0.5073\n",
      "Epoch 5/5\n",
      "26/26 [==============================] - 9s 341ms/step - loss: 0.4279 - accuracy: 0.8370 - val_loss: 0.3582 - val_accuracy: 0.9122\n"
     ]
    },
    {
     "data": {
      "text/plain": [
       "<keras.callbacks.History at 0x2598c2eb580>"
      ]
     },
     "execution_count": 14,
     "metadata": {},
     "output_type": "execute_result"
    }
   ],
   "source": [
    "model = build_model(dense_units=256)\n",
    "model.compile(\n",
    "    optimizer='sgd',\n",
    "    loss='sparse_categorical_crossentropy', \n",
    "    metrics=['accuracy'])\n",
    "  \n",
    "csv_file = 'training.csv'\n",
    "\n",
    "model.fit(train_batches, \n",
    "          epochs=5, \n",
    "          validation_data=validation_batches, \n",
    "          callbacks=[CSVLogger(csv_file)\n",
    "          ])"
   ]
  },
  {
   "cell_type": "code",
   "execution_count": 15,
   "id": "43502d71",
   "metadata": {},
   "outputs": [
    {
     "data": {
      "text/html": [
       "<div>\n",
       "<style scoped>\n",
       "    .dataframe tbody tr th:only-of-type {\n",
       "        vertical-align: middle;\n",
       "    }\n",
       "\n",
       "    .dataframe tbody tr th {\n",
       "        vertical-align: top;\n",
       "    }\n",
       "\n",
       "    .dataframe thead th {\n",
       "        text-align: right;\n",
       "    }\n",
       "</style>\n",
       "<table border=\"1\" class=\"dataframe\">\n",
       "  <thead>\n",
       "    <tr style=\"text-align: right;\">\n",
       "      <th></th>\n",
       "      <th>epoch</th>\n",
       "      <th>accuracy</th>\n",
       "      <th>loss</th>\n",
       "      <th>val_accuracy</th>\n",
       "      <th>val_loss</th>\n",
       "    </tr>\n",
       "  </thead>\n",
       "  <tbody>\n",
       "    <tr>\n",
       "      <th>0</th>\n",
       "      <td>0</td>\n",
       "      <td>0.591241</td>\n",
       "      <td>0.667625</td>\n",
       "      <td>0.775610</td>\n",
       "      <td>0.638670</td>\n",
       "    </tr>\n",
       "    <tr>\n",
       "      <th>1</th>\n",
       "      <td>1</td>\n",
       "      <td>0.680049</td>\n",
       "      <td>0.619822</td>\n",
       "      <td>0.507317</td>\n",
       "      <td>0.646219</td>\n",
       "    </tr>\n",
       "    <tr>\n",
       "      <th>2</th>\n",
       "      <td>2</td>\n",
       "      <td>0.751825</td>\n",
       "      <td>0.560286</td>\n",
       "      <td>0.609756</td>\n",
       "      <td>0.573475</td>\n",
       "    </tr>\n",
       "    <tr>\n",
       "      <th>3</th>\n",
       "      <td>3</td>\n",
       "      <td>0.787105</td>\n",
       "      <td>0.495628</td>\n",
       "      <td>0.507317</td>\n",
       "      <td>0.688501</td>\n",
       "    </tr>\n",
       "    <tr>\n",
       "      <th>4</th>\n",
       "      <td>4</td>\n",
       "      <td>0.836983</td>\n",
       "      <td>0.427870</td>\n",
       "      <td>0.912195</td>\n",
       "      <td>0.358151</td>\n",
       "    </tr>\n",
       "  </tbody>\n",
       "</table>\n",
       "</div>"
      ],
      "text/plain": [
       "   epoch  accuracy      loss  val_accuracy  val_loss\n",
       "0      0  0.591241  0.667625      0.775610  0.638670\n",
       "1      1  0.680049  0.619822      0.507317  0.646219\n",
       "2      2  0.751825  0.560286      0.609756  0.573475\n",
       "3      3  0.787105  0.495628      0.507317  0.688501\n",
       "4      4  0.836983  0.427870      0.912195  0.358151"
      ]
     },
     "execution_count": 15,
     "metadata": {},
     "output_type": "execute_result"
    }
   ],
   "source": [
    "pd.read_csv(csv_file).head()"
   ]
  },
  {
   "cell_type": "markdown",
   "id": "23019fda",
   "metadata": {},
   "source": [
    "## Learning Rate Scheduler\n",
    "Updates the learning rate during training."
   ]
  },
  {
   "cell_type": "code",
   "execution_count": 16,
   "id": "5db74f38",
   "metadata": {},
   "outputs": [
    {
     "name": "stdout",
     "output_type": "stream",
     "text": [
      "\n",
      "Epoch 1: LearningRateScheduler setting learning rate to 0.005.\n",
      "Epoch 1/5\n",
      "26/26 [==============================] - 8s 313ms/step - loss: 0.6778 - accuracy: 0.5608 - val_loss: 0.6651 - val_accuracy: 0.6537 - lr: 0.0050\n",
      "\n",
      "Epoch 2: LearningRateScheduler setting learning rate to 0.0025.\n",
      "Epoch 2/5\n",
      "26/26 [==============================] - 9s 337ms/step - loss: 0.6531 - accuracy: 0.6436 - val_loss: 0.6633 - val_accuracy: 0.5366 - lr: 0.0025\n",
      "\n",
      "Epoch 3: LearningRateScheduler setting learning rate to 0.00125.\n",
      "Epoch 3/5\n",
      "26/26 [==============================] - 9s 336ms/step - loss: 0.6419 - accuracy: 0.6642 - val_loss: 0.6521 - val_accuracy: 0.6146 - lr: 0.0012\n",
      "\n",
      "Epoch 4: LearningRateScheduler setting learning rate to 0.000625.\n",
      "Epoch 4/5\n",
      "26/26 [==============================] - 9s 335ms/step - loss: 0.6352 - accuracy: 0.7032 - val_loss: 0.6507 - val_accuracy: 0.6146 - lr: 6.2500e-04\n",
      "\n",
      "Epoch 5: LearningRateScheduler setting learning rate to 0.0003125.\n",
      "Epoch 5/5\n",
      "26/26 [==============================] - 9s 334ms/step - loss: 0.6318 - accuracy: 0.6788 - val_loss: 0.6458 - val_accuracy: 0.6439 - lr: 3.1250e-04\n"
     ]
    },
    {
     "data": {
      "text/plain": [
       "<keras.callbacks.History at 0x2598c43e9d0>"
      ]
     },
     "execution_count": 16,
     "metadata": {},
     "output_type": "execute_result"
    }
   ],
   "source": [
    "model = build_model(dense_units=256)\n",
    "model.compile(\n",
    "    optimizer='sgd',\n",
    "    loss='sparse_categorical_crossentropy', \n",
    "    metrics=['accuracy'])\n",
    "  \n",
    "def step_decay(epoch):\n",
    "    initial_lr = 0.01\n",
    "    drop = 0.5\n",
    "    epochs_drop = 1\n",
    "    lr = initial_lr * math.pow(drop, math.floor((1+epoch)/epochs_drop))\n",
    "    return lr\n",
    "\n",
    "model.fit(train_batches, \n",
    "          epochs=5, \n",
    "          validation_data=validation_batches, \n",
    "          callbacks=[LearningRateScheduler(step_decay, verbose=1),\n",
    "                    TensorBoard(log_dir='./log_dir')])"
   ]
  },
  {
   "cell_type": "code",
   "execution_count": 17,
   "id": "01e6bd44",
   "metadata": {},
   "outputs": [
    {
     "data": {
      "text/plain": [
       "ERROR: Failed to launch TensorBoard (exited with 1).\n",
       "Contents of stderr:\n",
       "2022-04-01 08:10:31.351317: W tensorflow/stream_executor/platform/default/dso_loader.cc:64] Could not load dynamic library 'cudart64_110.dll'; dlerror: cudart64_110.dll not found\n",
       "2022-04-01 08:10:35.165398: W tensorflow/stream_executor/platform/default/dso_loader.cc:64] Could not load dynamic library 'cudart64_110.dll'; dlerror: cudart64_110.dll not found\n",
       "2022-04-01 08:10:35.166315: W tensorflow/stream_executor/platform/default/dso_loader.cc:64] Could not load dynamic library 'cublas64_11.dll'; dlerror: cublas64_11.dll not found\n",
       "2022-04-01 08:10:35.167200: W tensorflow/stream_executor/platform/default/dso_loader.cc:64] Could not load dynamic library 'cublasLt64_11.dll'; dlerror: cublasLt64_11.dll not found\n",
       "2022-04-01 08:10:35.174566: W tensorflow/stream_executor/platform/default/dso_loader.cc:64] Could not load dynamic library 'cufft64_10.dll'; dlerror: cufft64_10.dll not found\n",
       "2022-04-01 08:10:35.175444: W tensorflow/stream_executor/platform/default/dso_loader.cc:64] Could not load dynamic library 'curand64_10.dll'; dlerror: curand64_10.dll not found\n",
       "2022-04-01 08:10:35.176318: W tensorflow/stream_executor/platform/default/dso_loader.cc:64] Could not load dynamic library 'cusolver64_11.dll'; dlerror: cusolver64_11.dll not found\n",
       "2022-04-01 08:10:35.177226: W tensorflow/stream_executor/platform/default/dso_loader.cc:64] Could not load dynamic library 'cusparse64_11.dll'; dlerror: cusparse64_11.dll not found\n",
       "2022-04-01 08:10:35.178071: W tensorflow/stream_executor/platform/default/dso_loader.cc:64] Could not load dynamic library 'cudnn64_8.dll'; dlerror: cudnn64_8.dll not found\n",
       "2022-04-01 08:10:35.178096: W tensorflow/core/common_runtime/gpu/gpu_device.cc:1857] Cannot dlopen some GPU libraries. Please make sure the missing libraries mentioned above are installed properly if you would like to use GPU. Follow the guide at https://www.tensorflow.org/install/gpu for how to download and setup the required libraries for your platform.\n",
       "Skipping registering GPU devices...\n",
       "W0401 08:10:35.500988 10084 plugin_event_accumulator.py:323] Found more than one graph event per run, or there was a metagraph containing a graph_def, as well as one or more graph events.  Overwriting the graph with the newest event.\n",
       "W0401 08:10:35.528631 10084 plugin_event_accumulator.py:323] Found more than one graph event per run, or there was a metagraph containing a graph_def, as well as one or more graph events.  Overwriting the graph with the newest event.\n",
       "W0401 08:10:35.544609 10084 plugin_event_accumulator.py:323] Found more than one graph event per run, or there was a metagraph containing a graph_def, as well as one or more graph events.  Overwriting the graph with the newest event.\n",
       "W0401 08:10:35.567526 10084 plugin_event_accumulator.py:323] Found more than one graph event per run, or there was a metagraph containing a graph_def, as well as one or more graph events.  Overwriting the graph with the newest event.\n",
       "Traceback (most recent call last):\n",
       "  File \"C:\\Users\\USER\\anaconda3\\lib\\runpy.py\", line 197, in _run_module_as_main\n",
       "    return _run_code(code, main_globals, None,\n",
       "  File \"C:\\Users\\USER\\anaconda3\\lib\\runpy.py\", line 87, in _run_code\n",
       "    exec(code, run_globals)\n",
       "  File \"C:\\Users\\USER\\anaconda3\\Scripts\\tensorboard.exe\\__main__.py\", line 7, in <module>\n",
       "  File \"C:\\Users\\USER\\anaconda3\\lib\\site-packages\\tensorboard\\main.py\", line 46, in run_main\n",
       "    app.run(tensorboard.main, flags_parser=tensorboard.configure)\n",
       "  File \"C:\\Users\\USER\\anaconda3\\lib\\site-packages\\absl\\app.py\", line 312, in run\n",
       "    _run_main(main, args)\n",
       "  File \"C:\\Users\\USER\\anaconda3\\lib\\site-packages\\absl\\app.py\", line 258, in _run_main\n",
       "    sys.exit(main(argv))\n",
       "  File \"C:\\Users\\USER\\anaconda3\\lib\\site-packages\\tensorboard\\program.py\", line 276, in main\n",
       "    return runner(self.flags) or 0\n",
       "  File \"C:\\Users\\USER\\anaconda3\\lib\\site-packages\\tensorboard\\program.py\", line 292, in _run_serve_subcommand\n",
       "    server = self._make_server()\n",
       "  File \"C:\\Users\\USER\\anaconda3\\lib\\site-packages\\tensorboard\\program.py\", line 467, in _make_server\n",
       "    app = application.TensorBoardWSGIApp(\n",
       "  File \"C:\\Users\\USER\\anaconda3\\lib\\site-packages\\tensorboard\\backend\\application.py\", line 139, in TensorBoardWSGIApp\n",
       "    return TensorBoardWSGI(\n",
       "  File \"C:\\Users\\USER\\anaconda3\\lib\\site-packages\\tensorboard\\backend\\application.py\", line 252, in __init__\n",
       "    raise ValueError(\n",
       "ValueError: Duplicate plugins for name projector"
      ]
     },
     "metadata": {},
     "output_type": "display_data"
    }
   ],
   "source": [
    "%tensorboard --logdir log_dir"
   ]
  },
  {
   "cell_type": "markdown",
   "id": "57a309f2",
   "metadata": {},
   "source": [
    "## ReduceLROnPlateau\n",
    "Reduce learning rate when a metric has stopped improving."
   ]
  },
  {
   "cell_type": "code",
   "execution_count": 18,
   "id": "c953abe6",
   "metadata": {},
   "outputs": [
    {
     "name": "stdout",
     "output_type": "stream",
     "text": [
      "Epoch 1/50\n",
      "26/26 [==============================] - 9s 317ms/step - loss: 0.6731 - accuracy: 0.5779 - val_loss: 0.6720 - val_accuracy: 0.4780 - lr: 0.0100\n",
      "Epoch 2/50\n",
      "26/26 [==============================] - 8s 322ms/step - loss: 0.6398 - accuracy: 0.6679 - val_loss: 0.6205 - val_accuracy: 0.8098 - lr: 0.0100\n",
      "Epoch 3/50\n",
      "26/26 [==============================] - ETA: 0s - loss: 0.5803 - accuracy: 0.7518\n",
      "Epoch 3: ReduceLROnPlateau reducing learning rate to 0.0019999999552965165.\n",
      "26/26 [==============================] - 8s 316ms/step - loss: 0.5803 - accuracy: 0.7518 - val_loss: 0.7141 - val_accuracy: 0.4683 - lr: 0.0100\n",
      "Epoch 4/50\n",
      "26/26 [==============================] - 8s 316ms/step - loss: 0.5360 - accuracy: 0.7871 - val_loss: 0.5316 - val_accuracy: 0.8000 - lr: 0.0020\n",
      "Epoch 5/50\n",
      "26/26 [==============================] - 8s 298ms/step - loss: 0.5107 - accuracy: 0.8163 - val_loss: 0.5238 - val_accuracy: 0.8195 - lr: 0.0020\n",
      "Epoch 6/50\n",
      "26/26 [==============================] - 8s 326ms/step - loss: 0.4915 - accuracy: 0.8078 - val_loss: 0.4954 - val_accuracy: 0.8146 - lr: 0.0020\n",
      "Epoch 7/50\n",
      "26/26 [==============================] - 8s 305ms/step - loss: 0.4739 - accuracy: 0.8127 - val_loss: 0.4932 - val_accuracy: 0.8390 - lr: 0.0020\n",
      "Epoch 8/50\n",
      "26/26 [==============================] - 9s 329ms/step - loss: 0.4572 - accuracy: 0.8114 - val_loss: 0.4659 - val_accuracy: 0.8195 - lr: 0.0020\n",
      "Epoch 9/50\n",
      "26/26 [==============================] - 8s 302ms/step - loss: 0.4414 - accuracy: 0.8248 - val_loss: 0.4417 - val_accuracy: 0.8195 - lr: 0.0020\n",
      "Epoch 10/50\n",
      "26/26 [==============================] - 8s 315ms/step - loss: 0.4274 - accuracy: 0.8212 - val_loss: 0.4256 - val_accuracy: 0.7902 - lr: 0.0020\n",
      "Epoch 11/50\n",
      "26/26 [==============================] - 8s 313ms/step - loss: 0.4161 - accuracy: 0.8358 - val_loss: 0.4105 - val_accuracy: 0.8439 - lr: 0.0020\n",
      "Epoch 12/50\n",
      "26/26 [==============================] - ETA: 0s - loss: 0.4046 - accuracy: 0.8285\n",
      "Epoch 12: ReduceLROnPlateau reducing learning rate to 0.001.\n",
      "26/26 [==============================] - 9s 334ms/step - loss: 0.4046 - accuracy: 0.8285 - val_loss: 0.4153 - val_accuracy: 0.8000 - lr: 0.0020\n",
      "Epoch 13/50\n",
      "26/26 [==============================] - 9s 339ms/step - loss: 0.3889 - accuracy: 0.8406 - val_loss: 0.3959 - val_accuracy: 0.8585 - lr: 0.0010\n",
      "Epoch 14/50\n",
      "26/26 [==============================] - 9s 333ms/step - loss: 0.3806 - accuracy: 0.8504 - val_loss: 0.4060 - val_accuracy: 0.8634 - lr: 0.0010\n",
      "Epoch 15/50\n",
      "26/26 [==============================] - 9s 341ms/step - loss: 0.3747 - accuracy: 0.8601 - val_loss: 0.3944 - val_accuracy: 0.8732 - lr: 0.0010\n",
      "Epoch 16/50\n",
      "26/26 [==============================] - 8s 327ms/step - loss: 0.3691 - accuracy: 0.8601 - val_loss: 0.4201 - val_accuracy: 0.8585 - lr: 0.0010\n",
      "Epoch 17/50\n",
      "26/26 [==============================] - 9s 330ms/step - loss: 0.3636 - accuracy: 0.8650 - val_loss: 0.3973 - val_accuracy: 0.8732 - lr: 0.0010\n",
      "Epoch 18/50\n",
      "26/26 [==============================] - 8s 319ms/step - loss: 0.3565 - accuracy: 0.8674 - val_loss: 0.3666 - val_accuracy: 0.8976 - lr: 0.0010\n",
      "Epoch 19/50\n",
      "26/26 [==============================] - 9s 333ms/step - loss: 0.3499 - accuracy: 0.8650 - val_loss: 0.3798 - val_accuracy: 0.8829 - lr: 0.0010\n",
      "Epoch 20/50\n",
      "26/26 [==============================] - 8s 320ms/step - loss: 0.3438 - accuracy: 0.8735 - val_loss: 0.3614 - val_accuracy: 0.8976 - lr: 0.0010\n",
      "Epoch 21/50\n",
      "26/26 [==============================] - 9s 333ms/step - loss: 0.3373 - accuracy: 0.8747 - val_loss: 0.3944 - val_accuracy: 0.8780 - lr: 0.0010\n",
      "Epoch 22/50\n",
      "26/26 [==============================] - 8s 300ms/step - loss: 0.3320 - accuracy: 0.8893 - val_loss: 0.3310 - val_accuracy: 0.8780 - lr: 0.0010\n",
      "Epoch 23/50\n",
      "26/26 [==============================] - 8s 309ms/step - loss: 0.3254 - accuracy: 0.8905 - val_loss: 0.3341 - val_accuracy: 0.9024 - lr: 0.0010\n",
      "Epoch 24/50\n",
      "26/26 [==============================] - 8s 297ms/step - loss: 0.3191 - accuracy: 0.8905 - val_loss: 0.3154 - val_accuracy: 0.8488 - lr: 0.0010\n",
      "Epoch 25/50\n",
      "26/26 [==============================] - 8s 311ms/step - loss: 0.3136 - accuracy: 0.8978 - val_loss: 0.3076 - val_accuracy: 0.8634 - lr: 0.0010\n",
      "Epoch 26/50\n",
      "26/26 [==============================] - 8s 295ms/step - loss: 0.3065 - accuracy: 0.8990 - val_loss: 0.3193 - val_accuracy: 0.9073 - lr: 0.0010\n",
      "Epoch 27/50\n",
      "26/26 [==============================] - 8s 311ms/step - loss: 0.2993 - accuracy: 0.9051 - val_loss: 0.3261 - val_accuracy: 0.9024 - lr: 0.0010\n",
      "Epoch 28/50\n",
      "26/26 [==============================] - 8s 297ms/step - loss: 0.2934 - accuracy: 0.9051 - val_loss: 0.3342 - val_accuracy: 0.8927 - lr: 0.0010\n",
      "Epoch 29/50\n",
      "26/26 [==============================] - 8s 307ms/step - loss: 0.2869 - accuracy: 0.9112 - val_loss: 0.3171 - val_accuracy: 0.9073 - lr: 0.0010\n",
      "Epoch 30/50\n",
      "26/26 [==============================] - 8s 297ms/step - loss: 0.2805 - accuracy: 0.9124 - val_loss: 0.3405 - val_accuracy: 0.8927 - lr: 0.0010\n",
      "Epoch 31/50\n",
      "26/26 [==============================] - 8s 310ms/step - loss: 0.2735 - accuracy: 0.9148 - val_loss: 0.3020 - val_accuracy: 0.9073 - lr: 0.0010\n",
      "Epoch 32/50\n",
      "26/26 [==============================] - 8s 304ms/step - loss: 0.2690 - accuracy: 0.9136 - val_loss: 0.2719 - val_accuracy: 0.9024 - lr: 0.0010\n",
      "Epoch 33/50\n",
      "26/26 [==============================] - 9s 330ms/step - loss: 0.2622 - accuracy: 0.9197 - val_loss: 0.2762 - val_accuracy: 0.9122 - lr: 0.0010\n",
      "Epoch 34/50\n",
      "26/26 [==============================] - 8s 319ms/step - loss: 0.2557 - accuracy: 0.9282 - val_loss: 0.2528 - val_accuracy: 0.9024 - lr: 0.0010\n",
      "Epoch 35/50\n",
      "26/26 [==============================] - 9s 333ms/step - loss: 0.2469 - accuracy: 0.9294 - val_loss: 0.2541 - val_accuracy: 0.9073 - lr: 0.0010\n",
      "Epoch 36/50\n",
      "26/26 [==============================] - 8s 325ms/step - loss: 0.2439 - accuracy: 0.9294 - val_loss: 0.2406 - val_accuracy: 0.9073 - lr: 0.0010\n",
      "Epoch 37/50\n",
      "26/26 [==============================] - 9s 340ms/step - loss: 0.2364 - accuracy: 0.9416 - val_loss: 0.2586 - val_accuracy: 0.9171 - lr: 0.0010\n",
      "Epoch 38/50\n",
      "26/26 [==============================] - 8s 326ms/step - loss: 0.2305 - accuracy: 0.9343 - val_loss: 0.2383 - val_accuracy: 0.9171 - lr: 0.0010\n",
      "Epoch 39/50\n",
      "26/26 [==============================] - 9s 330ms/step - loss: 0.2273 - accuracy: 0.9355 - val_loss: 0.2444 - val_accuracy: 0.9268 - lr: 0.0010\n",
      "Epoch 40/50\n",
      "26/26 [==============================] - 8s 323ms/step - loss: 0.2221 - accuracy: 0.9404 - val_loss: 0.2382 - val_accuracy: 0.9220 - lr: 0.0010\n",
      "Epoch 41/50\n",
      "26/26 [==============================] - 8s 320ms/step - loss: 0.2183 - accuracy: 0.9477 - val_loss: 0.2144 - val_accuracy: 0.9171 - lr: 0.0010\n",
      "Epoch 42/50\n",
      "26/26 [==============================] - 9s 331ms/step - loss: 0.2064 - accuracy: 0.9513 - val_loss: 0.2277 - val_accuracy: 0.9220 - lr: 0.0010\n",
      "Epoch 43/50\n",
      "26/26 [==============================] - 8s 322ms/step - loss: 0.2038 - accuracy: 0.9477 - val_loss: 0.2250 - val_accuracy: 0.9220 - lr: 0.0010\n",
      "Epoch 44/50\n",
      "26/26 [==============================] - 8s 313ms/step - loss: 0.1989 - accuracy: 0.9489 - val_loss: 0.2253 - val_accuracy: 0.9268 - lr: 0.0010\n",
      "Epoch 45/50\n",
      "26/26 [==============================] - 8s 308ms/step - loss: 0.1958 - accuracy: 0.9538 - val_loss: 0.2148 - val_accuracy: 0.9268 - lr: 0.0010\n",
      "Epoch 46/50\n",
      "26/26 [==============================] - 8s 313ms/step - loss: 0.1919 - accuracy: 0.9562 - val_loss: 0.1923 - val_accuracy: 0.9366 - lr: 0.0010\n",
      "Epoch 47/50\n",
      "26/26 [==============================] - 8s 304ms/step - loss: 0.1844 - accuracy: 0.9586 - val_loss: 0.2157 - val_accuracy: 0.9317 - lr: 0.0010\n",
      "Epoch 48/50\n",
      "26/26 [==============================] - 8s 307ms/step - loss: 0.1787 - accuracy: 0.9635 - val_loss: 0.1888 - val_accuracy: 0.9317 - lr: 0.0010\n",
      "Epoch 49/50\n",
      "26/26 [==============================] - 8s 297ms/step - loss: 0.1763 - accuracy: 0.9647 - val_loss: 0.1968 - val_accuracy: 0.9366 - lr: 0.0010\n",
      "Epoch 50/50\n",
      "26/26 [==============================] - 8s 307ms/step - loss: 0.1714 - accuracy: 0.9647 - val_loss: 0.1834 - val_accuracy: 0.9366 - lr: 0.0010\n"
     ]
    },
    {
     "data": {
      "text/plain": [
       "<keras.callbacks.History at 0x2598c17fc40>"
      ]
     },
     "execution_count": 18,
     "metadata": {},
     "output_type": "execute_result"
    }
   ],
   "source": [
    "model = build_model(dense_units=256)\n",
    "model.compile(\n",
    "    optimizer='sgd',\n",
    "    loss='sparse_categorical_crossentropy', \n",
    "    metrics=['accuracy'])\n",
    "  \n",
    "model.fit(train_batches, \n",
    "          epochs=50, \n",
    "          validation_data=validation_batches, \n",
    "          callbacks=[ReduceLROnPlateau(monitor='val_loss', \n",
    "                                       factor=0.2, verbose=1,\n",
    "                                       patience=1, min_lr=0.001),\n",
    "                     TensorBoard(log_dir='./log_dir')])"
   ]
  },
  {
   "cell_type": "code",
   "execution_count": 19,
   "id": "744d9f05",
   "metadata": {},
   "outputs": [
    {
     "data": {
      "text/plain": [
       "ERROR: Failed to launch TensorBoard (exited with 1).\n",
       "Contents of stderr:\n",
       "2022-04-01 08:17:31.378512: W tensorflow/stream_executor/platform/default/dso_loader.cc:64] Could not load dynamic library 'cudart64_110.dll'; dlerror: cudart64_110.dll not found\n",
       "2022-04-01 08:17:35.109510: W tensorflow/stream_executor/platform/default/dso_loader.cc:64] Could not load dynamic library 'cudart64_110.dll'; dlerror: cudart64_110.dll not found\n",
       "2022-04-01 08:17:35.110425: W tensorflow/stream_executor/platform/default/dso_loader.cc:64] Could not load dynamic library 'cublas64_11.dll'; dlerror: cublas64_11.dll not found\n",
       "2022-04-01 08:17:35.111318: W tensorflow/stream_executor/platform/default/dso_loader.cc:64] Could not load dynamic library 'cublasLt64_11.dll'; dlerror: cublasLt64_11.dll not found\n",
       "2022-04-01 08:17:35.115408: W tensorflow/stream_executor/platform/default/dso_loader.cc:64] Could not load dynamic library 'cufft64_10.dll'; dlerror: cufft64_10.dll not found\n",
       "2022-04-01 08:17:35.116288: W tensorflow/stream_executor/platform/default/dso_loader.cc:64] Could not load dynamic library 'curand64_10.dll'; dlerror: curand64_10.dll not found\n",
       "2022-04-01 08:17:35.117156: W tensorflow/stream_executor/platform/default/dso_loader.cc:64] Could not load dynamic library 'cusolver64_11.dll'; dlerror: cusolver64_11.dll not found\n",
       "2022-04-01 08:17:35.118023: W tensorflow/stream_executor/platform/default/dso_loader.cc:64] Could not load dynamic library 'cusparse64_11.dll'; dlerror: cusparse64_11.dll not found\n",
       "2022-04-01 08:17:35.118889: W tensorflow/stream_executor/platform/default/dso_loader.cc:64] Could not load dynamic library 'cudnn64_8.dll'; dlerror: cudnn64_8.dll not found\n",
       "2022-04-01 08:17:35.118914: W tensorflow/core/common_runtime/gpu/gpu_device.cc:1857] Cannot dlopen some GPU libraries. Please make sure the missing libraries mentioned above are installed properly if you would like to use GPU. Follow the guide at https://www.tensorflow.org/install/gpu for how to download and setup the required libraries for your platform.\n",
       "Skipping registering GPU devices...\n",
       "W0401 08:17:35.387970  3360 plugin_event_accumulator.py:323] Found more than one graph event per run, or there was a metagraph containing a graph_def, as well as one or more graph events.  Overwriting the graph with the newest event.\n",
       "W0401 08:17:35.403592  3360 plugin_event_accumulator.py:323] Found more than one graph event per run, or there was a metagraph containing a graph_def, as well as one or more graph events.  Overwriting the graph with the newest event.\n",
       "W0401 08:17:35.430795  3360 plugin_event_accumulator.py:323] Found more than one graph event per run, or there was a metagraph containing a graph_def, as well as one or more graph events.  Overwriting the graph with the newest event.\n",
       "W0401 08:17:35.448776  3360 plugin_event_accumulator.py:323] Found more than one graph event per run, or there was a metagraph containing a graph_def, as well as one or more graph events.  Overwriting the graph with the newest event.\n",
       "W0401 08:17:35.480038  3360 plugin_event_accumulator.py:323] Found more than one graph event per run, or there was a metagraph containing a graph_def, as well as one or more graph events.  Overwriting the graph with the newest event.\n",
       "Traceback (most recent call last):\n",
       "  File \"C:\\Users\\USER\\anaconda3\\lib\\runpy.py\", line 197, in _run_module_as_main\n",
       "    return _run_code(code, main_globals, None,\n",
       "  File \"C:\\Users\\USER\\anaconda3\\lib\\runpy.py\", line 87, in _run_code\n",
       "    exec(code, run_globals)\n",
       "  File \"C:\\Users\\USER\\anaconda3\\Scripts\\tensorboard.exe\\__main__.py\", line 7, in <module>\n",
       "  File \"C:\\Users\\USER\\anaconda3\\lib\\site-packages\\tensorboard\\main.py\", line 46, in run_main\n",
       "    app.run(tensorboard.main, flags_parser=tensorboard.configure)\n",
       "  File \"C:\\Users\\USER\\anaconda3\\lib\\site-packages\\absl\\app.py\", line 312, in run\n",
       "    _run_main(main, args)\n",
       "  File \"C:\\Users\\USER\\anaconda3\\lib\\site-packages\\absl\\app.py\", line 258, in _run_main\n",
       "    sys.exit(main(argv))\n",
       "  File \"C:\\Users\\USER\\anaconda3\\lib\\site-packages\\tensorboard\\program.py\", line 276, in main\n",
       "    return runner(self.flags) or 0\n",
       "  File \"C:\\Users\\USER\\anaconda3\\lib\\site-packages\\tensorboard\\program.py\", line 292, in _run_serve_subcommand\n",
       "    server = self._make_server()\n",
       "  File \"C:\\Users\\USER\\anaconda3\\lib\\site-packages\\tensorboard\\program.py\", line 467, in _make_server\n",
       "    app = application.TensorBoardWSGIApp(\n",
       "  File \"C:\\Users\\USER\\anaconda3\\lib\\site-packages\\tensorboard\\backend\\application.py\", line 139, in TensorBoardWSGIApp\n",
       "    return TensorBoardWSGI(\n",
       "  File \"C:\\Users\\USER\\anaconda3\\lib\\site-packages\\tensorboard\\backend\\application.py\", line 252, in __init__\n",
       "    raise ValueError(\n",
       "ValueError: Duplicate plugins for name projector"
      ]
     },
     "metadata": {},
     "output_type": "display_data"
    }
   ],
   "source": [
    "%tensorboard --logdir log_dir"
   ]
  },
  {
   "cell_type": "code",
   "execution_count": null,
   "id": "dc69f346",
   "metadata": {},
   "outputs": [],
   "source": []
  }
 ],
 "metadata": {
  "kernelspec": {
   "display_name": "Python 3 (ipykernel)",
   "language": "python",
   "name": "python3"
  },
  "language_info": {
   "codemirror_mode": {
    "name": "ipython",
    "version": 3
   },
   "file_extension": ".py",
   "mimetype": "text/x-python",
   "name": "python",
   "nbconvert_exporter": "python",
   "pygments_lexer": "ipython3",
   "version": "3.9.7"
  }
 },
 "nbformat": 4,
 "nbformat_minor": 5
}
