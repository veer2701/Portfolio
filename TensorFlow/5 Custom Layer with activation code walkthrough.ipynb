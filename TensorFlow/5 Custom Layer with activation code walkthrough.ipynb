{
 "cells": [
  {
   "cell_type": "markdown",
   "id": "9e321873",
   "metadata": {},
   "source": [
    "## Custom Layer with activation code walkthrough"
   ]
  },
  {
   "cell_type": "code",
   "execution_count": 1,
   "id": "cc9176ee",
   "metadata": {},
   "outputs": [
    {
     "name": "stdout",
     "output_type": "stream",
     "text": [
      "Version of tensorflow is :  2.9.0-dev20220315\n"
     ]
    }
   ],
   "source": [
    "import tensorflow as tf\n",
    "print(\"Version of tensorflow is : \",tf.__version__)\n",
    "from tensorflow.keras.layers import Layer , Dense , Flatten\n",
    "from tensorflow.keras.models import Sequential\n",
    "from tensorflow.keras.datasets import mnist\n",
    "from tensorflow.keras.losses import categorical_crossentropy\n",
    "from tensorflow.keras.optimizers import RMSprop\n",
    "from tensorflow.nn import softmax , relu"
   ]
  },
  {
   "cell_type": "code",
   "execution_count": 2,
   "id": "d27c72c3",
   "metadata": {},
   "outputs": [],
   "source": [
    "(train_data , train_label) , (test_data , test_label) = mnist.load_data()\n",
    "\n",
    "train_data = train_data / 255.0\n",
    "test_data  = test_data  / 255.0\n",
    "\n",
    "train_label = tf.keras.utils.to_categorical(train_label)\n",
    "test_label  = tf.keras.utils.to_categorical(test_label)"
   ]
  },
  {
   "cell_type": "code",
   "execution_count": null,
   "id": "e2f4a334",
   "metadata": {},
   "outputs": [],
   "source": []
  },
  {
   "cell_type": "code",
   "execution_count": 3,
   "id": "b1129860",
   "metadata": {},
   "outputs": [],
   "source": [
    "class MyDenseLayer(Layer):\n",
    "    def __init__(self , units = 32 ):\n",
    "        super(MyDenseLayer , self).__init__()\n",
    "        self.units = units\n",
    "\n",
    "    def build(self , input_shape):\n",
    "        w_init = tf.random_normal_initializer()\n",
    "        b_init = tf.zeros_initializer()\n",
    "\n",
    "        self.w = tf.Variable(initial_value=w_init(shape=(input_shape[-1] , self.units) , dtype=\"float32\") , trainable=True , name=\"kernal\")\n",
    "        self.b = tf.Variable(initial_value=b_init(shape=(self.units , ) , dtype=\"float32\") , trainable=True , name=\"bias\")\n",
    "    def call(self , inputs):\n",
    "        return tf.matmul(inputs , self.w) + self.b"
   ]
  },
  {
   "cell_type": "code",
   "execution_count": 4,
   "id": "aaa28b6f",
   "metadata": {},
   "outputs": [
    {
     "name": "stdout",
     "output_type": "stream",
     "text": [
      "Epoch 1/5\n",
      "1875/1875 [==============================] - 4s 2ms/step - loss: 0.3612 - acc: 0.8980\n",
      "Epoch 2/5\n",
      "1875/1875 [==============================] - 4s 2ms/step - loss: 0.3044 - acc: 0.9158\n",
      "Epoch 3/5\n",
      "1875/1875 [==============================] - 4s 2ms/step - loss: 0.2947 - acc: 0.9193\n",
      "Epoch 4/5\n",
      "1875/1875 [==============================] - 4s 2ms/step - loss: 0.2891 - acc: 0.9200\n",
      "Epoch 5/5\n",
      "1875/1875 [==============================] - 3s 2ms/step - loss: 0.2849 - acc: 0.9225\n",
      "313/313 [==============================] - 1s 1ms/step - loss: 0.2886 - acc: 0.9224\n"
     ]
    },
    {
     "data": {
      "text/plain": [
       "[0.2885877788066864, 0.9223999977111816]"
      ]
     },
     "execution_count": 4,
     "metadata": {},
     "output_type": "execute_result"
    }
   ],
   "source": [
    "model_simpledense = Sequential([\n",
    "    Flatten(input_shape=(28,28)),\n",
    "    MyDenseLayer(128),\n",
    "    Dense(10 , activation = softmax)\n",
    "])\n",
    "model_simpledense.compile(loss = categorical_crossentropy , optimizer = RMSprop() , metrics = ['acc'])\n",
    "model_simpledense.fit(train_data , train_label , epochs = 5)\n",
    "model_simpledense.evaluate(test_data , test_label)"
   ]
  },
  {
   "cell_type": "markdown",
   "id": "036fa7fa",
   "metadata": {},
   "source": [
    "### Custom Dense Layer class with activation parameter\n",
    "\n",
    "pyhton\n",
    "\n",
    "def __init__(self , units = 32 ,activation = None):\n",
    "\n",
    "- units -> No of nurons in the dense layer\n",
    "- activation -> Activation type(string | instance of any object) Default (None)"
   ]
  },
  {
   "cell_type": "code",
   "execution_count": 5,
   "id": "320d80c5",
   "metadata": {},
   "outputs": [],
   "source": [
    "class MyDenseLayerwithActivation(Layer):\n",
    "    def __init__(self , units = 32 ,activation = None):\n",
    "        super(MyDenseLayerwithActivation , self).__init__()\n",
    "        self.units = units\n",
    "        self.activation = activation\n",
    "\n",
    "    def build(self , input_shape):\n",
    "        w_init = tf.random_normal_initializer()\n",
    "        b_init = tf.zeros_initializer()\n",
    "\n",
    "        self.w = tf.Variable(initial_value=w_init(shape=(input_shape[-1] , self.units) , dtype=\"float32\") , trainable=True , name=\"kernal\")\n",
    "        self.b = tf.Variable(initial_value=b_init(shape=(self.units , ) , dtype=\"float32\") , trainable=True , name=\"bias\")\n",
    "    def call(self , inputs):\n",
    "        return self.activation( tf.matmul(inputs , self.w) + self.b )"
   ]
  },
  {
   "cell_type": "code",
   "execution_count": 6,
   "id": "c4892780",
   "metadata": {},
   "outputs": [
    {
     "name": "stdout",
     "output_type": "stream",
     "text": [
      "Epoch 1/5\n",
      "1875/1875 [==============================] - 4s 2ms/step - loss: 0.2924 - acc: 0.9173\n",
      "Epoch 2/5\n",
      "1875/1875 [==============================] - 4s 2ms/step - loss: 0.1333 - acc: 0.9608\n",
      "Epoch 3/5\n",
      "1875/1875 [==============================] - 4s 2ms/step - loss: 0.0970 - acc: 0.9721\n",
      "Epoch 4/5\n",
      "1875/1875 [==============================] - 3s 2ms/step - loss: 0.0781 - acc: 0.9775\n",
      "Epoch 5/5\n",
      "1875/1875 [==============================] - 3s 2ms/step - loss: 0.0671 - acc: 0.9810\n",
      "313/313 [==============================] - 0s 1ms/step - loss: 0.1006 - acc: 0.9715\n"
     ]
    },
    {
     "data": {
      "text/plain": [
       "[0.10063653439283371, 0.9714999794960022]"
      ]
     },
     "execution_count": 6,
     "metadata": {},
     "output_type": "execute_result"
    }
   ],
   "source": [
    "model_simpledense_activation = Sequential([\n",
    "    Flatten(input_shape=(28,28)),\n",
    "    MyDenseLayerwithActivation(units = 128 , activation=relu),\n",
    "    MyDenseLayerwithActivation(10 , activation = softmax)\n",
    "])\n",
    "model_simpledense_activation.compile(loss = categorical_crossentropy , optimizer = RMSprop() , metrics = ['acc'])\n",
    "model_simpledense_activation.fit(train_data , train_label , epochs = 5)\n",
    "model_simpledense_activation.evaluate(test_data , test_label)"
   ]
  },
  {
   "cell_type": "code",
   "execution_count": null,
   "id": "50f56ea8",
   "metadata": {},
   "outputs": [],
   "source": []
  }
 ],
 "metadata": {
  "kernelspec": {
   "display_name": "Python 3 (ipykernel)",
   "language": "python",
   "name": "python3"
  },
  "language_info": {
   "codemirror_mode": {
    "name": "ipython",
    "version": 3
   },
   "file_extension": ".py",
   "mimetype": "text/x-python",
   "name": "python",
   "nbconvert_exporter": "python",
   "pygments_lexer": "ipython3",
   "version": "3.9.7"
  }
 },
 "nbformat": 4,
 "nbformat_minor": 5
}
