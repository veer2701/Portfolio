{
 "cells": [
  {
   "cell_type": "markdown",
   "id": "9db77bd0",
   "metadata": {},
   "source": [
    "# Tensorflow Tutorial - Simple Trading Strategy based on overnight returns"
   ]
  },
  {
   "cell_type": "code",
   "execution_count": 42,
   "id": "08f2fb99",
   "metadata": {},
   "outputs": [],
   "source": [
    "# !pip install tensorflow\n",
    "# !pip install pyfolio"
   ]
  },
  {
   "cell_type": "code",
   "execution_count": 2,
   "id": "1b9f601c",
   "metadata": {},
   "outputs": [],
   "source": [
    "import math\n",
    "import pandas_datareader as pdr\n",
    "import matplotlib.pyplot as plt\n",
    "import pandas as pd\n",
    "import numpy as np\n",
    "from matplotlib import pyplot as plt\n",
    "import seaborn as sns\n",
    "import yfinance as yf\n",
    "import tensorflow as tf\n",
    "import warnings\n",
    "warnings.filterwarnings('ignore')\n",
    "import pyfolio as pf\n",
    "\n",
    "### Create the Stacked LSTM model\n",
    "from tensorflow.keras.models import Sequential\n",
    "from tensorflow.keras.layers import Dense\n",
    "from tensorflow.keras.layers import LSTM"
   ]
  },
  {
   "cell_type": "code",
   "execution_count": 3,
   "id": "5eeaa4ab",
   "metadata": {},
   "outputs": [
    {
     "name": "stdout",
     "output_type": "stream",
     "text": [
      "[*********************100%***********************]  1 of 1 completed\n"
     ]
    },
    {
     "data": {
      "text/html": [
       "<div>\n",
       "<style scoped>\n",
       "    .dataframe tbody tr th:only-of-type {\n",
       "        vertical-align: middle;\n",
       "    }\n",
       "\n",
       "    .dataframe tbody tr th {\n",
       "        vertical-align: top;\n",
       "    }\n",
       "\n",
       "    .dataframe thead th {\n",
       "        text-align: right;\n",
       "    }\n",
       "</style>\n",
       "<table border=\"1\" class=\"dataframe\">\n",
       "  <thead>\n",
       "    <tr style=\"text-align: right;\">\n",
       "      <th></th>\n",
       "      <th>Open</th>\n",
       "      <th>High</th>\n",
       "      <th>Low</th>\n",
       "      <th>Close</th>\n",
       "      <th>Adj Close</th>\n",
       "      <th>Volume</th>\n",
       "    </tr>\n",
       "    <tr>\n",
       "      <th>Date</th>\n",
       "      <th></th>\n",
       "      <th></th>\n",
       "      <th></th>\n",
       "      <th></th>\n",
       "      <th></th>\n",
       "      <th></th>\n",
       "    </tr>\n",
       "  </thead>\n",
       "  <tbody>\n",
       "    <tr>\n",
       "      <th>2022-03-22</th>\n",
       "      <td>35975.601562</td>\n",
       "      <td>36468.800781</td>\n",
       "      <td>35384.750000</td>\n",
       "      <td>36348.550781</td>\n",
       "      <td>36348.550781</td>\n",
       "      <td>202900</td>\n",
       "    </tr>\n",
       "    <tr>\n",
       "      <th>2022-03-23</th>\n",
       "      <td>36627.699219</td>\n",
       "      <td>36827.601562</td>\n",
       "      <td>36064.750000</td>\n",
       "      <td>36147.351562</td>\n",
       "      <td>36147.351562</td>\n",
       "      <td>197900</td>\n",
       "    </tr>\n",
       "    <tr>\n",
       "      <th>2022-03-24</th>\n",
       "      <td>35633.699219</td>\n",
       "      <td>35957.699219</td>\n",
       "      <td>35421.699219</td>\n",
       "      <td>35527.101562</td>\n",
       "      <td>35527.101562</td>\n",
       "      <td>205200</td>\n",
       "    </tr>\n",
       "    <tr>\n",
       "      <th>2022-03-25</th>\n",
       "      <td>35700.398438</td>\n",
       "      <td>35717.398438</td>\n",
       "      <td>35203.851562</td>\n",
       "      <td>35410.101562</td>\n",
       "      <td>35410.101562</td>\n",
       "      <td>157000</td>\n",
       "    </tr>\n",
       "    <tr>\n",
       "      <th>2022-03-28</th>\n",
       "      <td>35488.699219</td>\n",
       "      <td>35770.800781</td>\n",
       "      <td>35016.300781</td>\n",
       "      <td>35710.500000</td>\n",
       "      <td>35710.500000</td>\n",
       "      <td>197000</td>\n",
       "    </tr>\n",
       "  </tbody>\n",
       "</table>\n",
       "</div>"
      ],
      "text/plain": [
       "                    Open          High           Low         Close  \\\n",
       "Date                                                                 \n",
       "2022-03-22  35975.601562  36468.800781  35384.750000  36348.550781   \n",
       "2022-03-23  36627.699219  36827.601562  36064.750000  36147.351562   \n",
       "2022-03-24  35633.699219  35957.699219  35421.699219  35527.101562   \n",
       "2022-03-25  35700.398438  35717.398438  35203.851562  35410.101562   \n",
       "2022-03-28  35488.699219  35770.800781  35016.300781  35710.500000   \n",
       "\n",
       "               Adj Close  Volume  \n",
       "Date                              \n",
       "2022-03-22  36348.550781  202900  \n",
       "2022-03-23  36147.351562  197900  \n",
       "2022-03-24  35527.101562  205200  \n",
       "2022-03-25  35410.101562  157000  \n",
       "2022-03-28  35710.500000  197000  "
      ]
     },
     "execution_count": 3,
     "metadata": {},
     "output_type": "execute_result"
    }
   ],
   "source": [
    "import yfinance as yf\n",
    "bn = yf.download('^NSEBANK', '2008-01-01', '2022-3-29', auto_adjust=False)\n",
    "# bn1 = bn.reset_index(drop=False)\n",
    "bn.tail()"
   ]
  },
  {
   "cell_type": "code",
   "execution_count": 4,
   "id": "2d1eabcc",
   "metadata": {},
   "outputs": [
    {
     "data": {
      "text/html": [
       "<div>\n",
       "<style scoped>\n",
       "    .dataframe tbody tr th:only-of-type {\n",
       "        vertical-align: middle;\n",
       "    }\n",
       "\n",
       "    .dataframe tbody tr th {\n",
       "        vertical-align: top;\n",
       "    }\n",
       "\n",
       "    .dataframe thead th {\n",
       "        text-align: right;\n",
       "    }\n",
       "</style>\n",
       "<table border=\"1\" class=\"dataframe\">\n",
       "  <thead>\n",
       "    <tr style=\"text-align: right;\">\n",
       "      <th></th>\n",
       "      <th>Date</th>\n",
       "      <th>Open</th>\n",
       "      <th>High</th>\n",
       "      <th>Low</th>\n",
       "      <th>Close</th>\n",
       "      <th>Adj Close</th>\n",
       "      <th>Volume</th>\n",
       "    </tr>\n",
       "  </thead>\n",
       "  <tbody>\n",
       "    <tr>\n",
       "      <th>3210</th>\n",
       "      <td>2022-03-22</td>\n",
       "      <td>35975.601562</td>\n",
       "      <td>36468.800781</td>\n",
       "      <td>35384.750000</td>\n",
       "      <td>36348.550781</td>\n",
       "      <td>36348.550781</td>\n",
       "      <td>202900</td>\n",
       "    </tr>\n",
       "    <tr>\n",
       "      <th>3211</th>\n",
       "      <td>2022-03-23</td>\n",
       "      <td>36627.699219</td>\n",
       "      <td>36827.601562</td>\n",
       "      <td>36064.750000</td>\n",
       "      <td>36147.351562</td>\n",
       "      <td>36147.351562</td>\n",
       "      <td>197900</td>\n",
       "    </tr>\n",
       "    <tr>\n",
       "      <th>3212</th>\n",
       "      <td>2022-03-24</td>\n",
       "      <td>35633.699219</td>\n",
       "      <td>35957.699219</td>\n",
       "      <td>35421.699219</td>\n",
       "      <td>35527.101562</td>\n",
       "      <td>35527.101562</td>\n",
       "      <td>205200</td>\n",
       "    </tr>\n",
       "    <tr>\n",
       "      <th>3213</th>\n",
       "      <td>2022-03-25</td>\n",
       "      <td>35700.398438</td>\n",
       "      <td>35717.398438</td>\n",
       "      <td>35203.851562</td>\n",
       "      <td>35410.101562</td>\n",
       "      <td>35410.101562</td>\n",
       "      <td>157000</td>\n",
       "    </tr>\n",
       "    <tr>\n",
       "      <th>3214</th>\n",
       "      <td>2022-03-28</td>\n",
       "      <td>35488.699219</td>\n",
       "      <td>35770.800781</td>\n",
       "      <td>35016.300781</td>\n",
       "      <td>35710.500000</td>\n",
       "      <td>35710.500000</td>\n",
       "      <td>197000</td>\n",
       "    </tr>\n",
       "  </tbody>\n",
       "</table>\n",
       "</div>"
      ],
      "text/plain": [
       "           Date          Open          High           Low         Close  \\\n",
       "3210 2022-03-22  35975.601562  36468.800781  35384.750000  36348.550781   \n",
       "3211 2022-03-23  36627.699219  36827.601562  36064.750000  36147.351562   \n",
       "3212 2022-03-24  35633.699219  35957.699219  35421.699219  35527.101562   \n",
       "3213 2022-03-25  35700.398438  35717.398438  35203.851562  35410.101562   \n",
       "3214 2022-03-28  35488.699219  35770.800781  35016.300781  35710.500000   \n",
       "\n",
       "         Adj Close  Volume  \n",
       "3210  36348.550781  202900  \n",
       "3211  36147.351562  197900  \n",
       "3212  35527.101562  205200  \n",
       "3213  35410.101562  157000  \n",
       "3214  35710.500000  197000  "
      ]
     },
     "execution_count": 4,
     "metadata": {},
     "output_type": "execute_result"
    }
   ],
   "source": [
    "# import yfinance as yf\n",
    "# bn = yf.download('^NSEBANK', '2008-01-01', '2022-1-25', auto_adjust=False)\n",
    "bn1 = bn.reset_index(drop=False)\n",
    "bn1.tail()"
   ]
  },
  {
   "cell_type": "code",
   "execution_count": 5,
   "id": "3843d8c2",
   "metadata": {},
   "outputs": [],
   "source": [
    "bn1=bn.reset_index()['Close']"
   ]
  },
  {
   "cell_type": "code",
   "execution_count": 6,
   "id": "f11b4f07",
   "metadata": {},
   "outputs": [
    {
     "data": {
      "text/plain": [
       "(3215,)"
      ]
     },
     "execution_count": 6,
     "metadata": {},
     "output_type": "execute_result"
    }
   ],
   "source": [
    "bn1.shape"
   ]
  },
  {
   "cell_type": "code",
   "execution_count": 7,
   "id": "2e778497",
   "metadata": {},
   "outputs": [
    {
     "data": {
      "text/plain": [
       "0        9905.250000\n",
       "1       10250.849609\n",
       "2       10100.700195\n",
       "3       10233.200195\n",
       "4       10391.099609\n",
       "            ...     \n",
       "3210    36348.550781\n",
       "3211    36147.351562\n",
       "3212    35527.101562\n",
       "3213    35410.101562\n",
       "3214    35710.500000\n",
       "Name: Close, Length: 3215, dtype: float64"
      ]
     },
     "execution_count": 7,
     "metadata": {},
     "output_type": "execute_result"
    }
   ],
   "source": [
    "bn1[:]"
   ]
  },
  {
   "cell_type": "code",
   "execution_count": 8,
   "id": "f815a586",
   "metadata": {},
   "outputs": [
    {
     "data": {
      "text/plain": [
       "0        9905.250000\n",
       "1       10250.849609\n",
       "2       10100.700195\n",
       "3       10233.200195\n",
       "4       10391.099609\n",
       "            ...     \n",
       "3210    36348.550781\n",
       "3211    36147.351562\n",
       "3212    35527.101562\n",
       "3213    35410.101562\n",
       "3214    35710.500000\n",
       "Name: Close, Length: 3215, dtype: float64"
      ]
     },
     "execution_count": 8,
     "metadata": {},
     "output_type": "execute_result"
    }
   ],
   "source": [
    "bn1"
   ]
  },
  {
   "cell_type": "code",
   "execution_count": 9,
   "id": "e82014f4",
   "metadata": {},
   "outputs": [
    {
     "data": {
      "image/png": "[encoded data removed]",
      "text/plain": [
       "<Figure size 1080x504 with 1 Axes>"
      ]
     },
     "metadata": {
      "needs_background": "light"
     },
     "output_type": "display_data"
    }
   ],
   "source": [
    "import matplotlib.pyplot as plt\n",
    "bn1.plot(figsize=(15, 7), grid=True)\n",
    "plt.show()"
   ]
  },
  {
   "cell_type": "code",
   "execution_count": 10,
   "id": "21ff1f61",
   "metadata": {},
   "outputs": [
    {
     "data": {
      "text/plain": [
       "[<matplotlib.lines.Line2D at 0x1f17ee440a0>]"
      ]
     },
     "execution_count": 10,
     "metadata": {},
     "output_type": "execute_result"
    },
    {
     "data": {
      "image/png": "[encoded data removed]",
      "text/plain": [
       "<Figure size 432x288 with 1 Axes>"
      ]
     },
     "metadata": {
      "needs_background": "light"
     },
     "output_type": "display_data"
    }
   ],
   "source": [
    "# other way\n",
    "\n",
    "plt.plot(bn1)"
   ]
  },
  {
   "cell_type": "markdown",
   "id": "023d013c",
   "metadata": {},
   "source": [
    "### LSTM are sensitive to the scale of the data. so we apply MinMax scaler"
   ]
  },
  {
   "cell_type": "code",
   "execution_count": 11,
   "id": "a9abe0ec",
   "metadata": {},
   "outputs": [
    {
     "data": {
      "text/plain": [
       "array([[0.17323991],\n",
       "       [0.18235897],\n",
       "       [0.17839709],\n",
       "       ...,\n",
       "       [0.84930316],\n",
       "       [0.84621598],\n",
       "       [0.85414235]])"
      ]
     },
     "execution_count": 11,
     "metadata": {},
     "output_type": "execute_result"
    }
   ],
   "source": [
    "from sklearn.preprocessing import MinMaxScaler\n",
    "scaler=MinMaxScaler(feature_range=(0,1))\n",
    "bn1=scaler.fit_transform(np.array(bn1).reshape(-1,1))  ## This convert the bn1 in array\n",
    "bn1"
   ]
  },
  {
   "cell_type": "code",
   "execution_count": 12,
   "id": "eb93914f",
   "metadata": {},
   "outputs": [],
   "source": [
    "## Spliting dataset into train and test split\n",
    "training_size=int(len(bn1)*0.65)\n",
    "test_size=len(bn1)-training_size\n",
    "train_data,test_data=bn1[0:training_size,:],bn1[training_size:len(bn1),:1]"
   ]
  },
  {
   "cell_type": "code",
   "execution_count": 13,
   "id": "7ec92423",
   "metadata": {},
   "outputs": [
    {
     "data": {
      "text/plain": [
       "(2089, 1126)"
      ]
     },
     "execution_count": 13,
     "metadata": {},
     "output_type": "execute_result"
    }
   ],
   "source": [
    "training_size,test_size"
   ]
  },
  {
   "cell_type": "code",
   "execution_count": 14,
   "id": "be0c5bce",
   "metadata": {},
   "outputs": [
    {
     "data": {
      "text/plain": [
       "(2089, 1126)"
      ]
     },
     "execution_count": 14,
     "metadata": {},
     "output_type": "execute_result"
    }
   ],
   "source": [
    "len(train_data),len(test_data)"
   ]
  },
  {
   "cell_type": "code",
   "execution_count": 15,
   "id": "ac636775",
   "metadata": {},
   "outputs": [
    {
     "data": {
      "text/plain": [
       "(array([[0.17323991],\n",
       "        [0.18235897],\n",
       "        [0.17839709],\n",
       "        ...,\n",
       "        [0.54447259],\n",
       "        [0.55350594],\n",
       "        [0.55238185]]),\n",
       " array([[0.555097  ],\n",
       "        [0.54854926],\n",
       "        [0.55329217],\n",
       "        ...,\n",
       "        [0.84930316],\n",
       "        [0.84621598],\n",
       "        [0.85414235]]))"
      ]
     },
     "execution_count": 15,
     "metadata": {},
     "output_type": "execute_result"
    }
   ],
   "source": [
    "train_data, test_data"
   ]
  },
  {
   "cell_type": "code",
   "execution_count": 16,
   "id": "603d3c70",
   "metadata": {},
   "outputs": [],
   "source": [
    "import numpy\n",
    "# convert an array of values into a dataset matrix\n",
    "def create_dataset(dataset, time_step=1):\n",
    "        dataX, dataY=[],[]\n",
    "        for i in range(len(dataset)-time_step-1):\n",
    "            a=dataset[i:(i+time_step),0]    ###[=0, 0,1,2,3-------99    200]\n",
    "            dataX.append(a)\n",
    "            dataY.append(dataset[i+time_step,0])\n",
    "        return numpy.array(dataX), numpy.array(dataY)"
   ]
  },
  {
   "cell_type": "code",
   "execution_count": 17,
   "id": "f91d1046",
   "metadata": {},
   "outputs": [],
   "source": [
    "# reshape into X=t,t+1,t+2,t+3 and Y=t+4\n",
    "time_step=100\n",
    "X_train, Y_train=create_dataset(train_data, time_step)\n",
    "X_test, Ytest=create_dataset(test_data,time_step)"
   ]
  },
  {
   "cell_type": "code",
   "execution_count": 18,
   "id": "5165ba65",
   "metadata": {},
   "outputs": [
    {
     "name": "stdout",
     "output_type": "stream",
     "text": [
      "[[0.17323991 0.18235897 0.17839709 ... 0.0904453  0.08586729 0.09080018]\n",
      " [0.18235897 0.17839709 0.18189327 ... 0.08586729 0.09080018 0.08541344]\n",
      " [0.17839709 0.18189327 0.18605963 ... 0.09080018 0.08541344 0.08561398]\n",
      " ...\n",
      " [0.46748957 0.47193564 0.47630915 ... 0.55669599 0.5514069  0.54711121]\n",
      " [0.47193564 0.47630915 0.48236607 ... 0.5514069  0.54711121 0.54347125]\n",
      " [0.47630915 0.48236607 0.47770762 ... 0.54711121 0.54347125 0.54447259]]\n"
     ]
    }
   ],
   "source": [
    "print(X_train)"
   ]
  },
  {
   "cell_type": "code",
   "execution_count": 19,
   "id": "9182ffdf",
   "metadata": {},
   "outputs": [
    {
     "name": "stdout",
     "output_type": "stream",
     "text": [
      "(1988, 100)\n",
      "(1988,)\n"
     ]
    },
    {
     "data": {
      "text/plain": [
       "(None, None)"
      ]
     },
     "execution_count": 19,
     "metadata": {},
     "output_type": "execute_result"
    }
   ],
   "source": [
    "print(X_train.shape), print(Y_train.shape)"
   ]
  },
  {
   "cell_type": "code",
   "execution_count": 20,
   "id": "f9539cad",
   "metadata": {},
   "outputs": [
    {
     "name": "stdout",
     "output_type": "stream",
     "text": [
      "(1025, 100)\n",
      "(1025,)\n"
     ]
    },
    {
     "data": {
      "text/plain": [
       "(None, None)"
      ]
     },
     "execution_count": 20,
     "metadata": {},
     "output_type": "execute_result"
    }
   ],
   "source": [
    "print(X_test.shape), print(Ytest.shape)"
   ]
  },
  {
   "cell_type": "code",
   "execution_count": 21,
   "id": "56b2acc1",
   "metadata": {},
   "outputs": [],
   "source": [
    "# reshape input to be [sample, time steps, features] which is required for LSTM\n",
    "X_train=X_train.reshape(X_train.shape[0],X_train.shape[1],1)\n",
    "X_test=X_test.reshape(X_test.shape[0],X_test.shape[1],1)"
   ]
  },
  {
   "cell_type": "code",
   "execution_count": 22,
   "id": "c3ad9661",
   "metadata": {},
   "outputs": [],
   "source": [
    "# !pip install tensorflow"
   ]
  },
  {
   "cell_type": "code",
   "execution_count": 23,
   "id": "6e984c30",
   "metadata": {},
   "outputs": [],
   "source": [
    "import tensorflow as tf"
   ]
  },
  {
   "cell_type": "code",
   "execution_count": 24,
   "id": "f9dc64bb",
   "metadata": {},
   "outputs": [
    {
     "data": {
      "text/plain": [
       "'2.9.0-dev20220315'"
      ]
     },
     "execution_count": 24,
     "metadata": {},
     "output_type": "execute_result"
    }
   ],
   "source": [
    "tf.__version__"
   ]
  },
  {
   "cell_type": "code",
   "execution_count": 25,
   "id": "222bbfe4",
   "metadata": {},
   "outputs": [],
   "source": [
    "model=Sequential()\n",
    "model.add(LSTM(50,return_sequences=True,input_shape=(100,1)))\n",
    "model.add(LSTM(50,return_sequences=True))\n",
    "model.add(LSTM(50))\n",
    "model.add(Dense(1))\n",
    "model.compile(loss='mean_squared_error',optimizer='adam')"
   ]
  },
  {
   "cell_type": "code",
   "execution_count": 26,
   "id": "85b169d3",
   "metadata": {},
   "outputs": [
    {
     "name": "stdout",
     "output_type": "stream",
     "text": [
      "Model: \"sequential\"\n",
      "_________________________________________________________________\n",
      " Layer (type)                Output Shape              Param #   \n",
      "=================================================================\n",
      " lstm (LSTM)                 (None, 100, 50)           10400     \n",
      "                                                                 \n",
      " lstm_1 (LSTM)               (None, 100, 50)           20200     \n",
      "                                                                 \n",
      " lstm_2 (LSTM)               (None, 50)                20200     \n",
      "                                                                 \n",
      " dense (Dense)               (None, 1)                 51        \n",
      "                                                                 \n",
      "=================================================================\n",
      "Total params: 50,851\n",
      "Trainable params: 50,851\n",
      "Non-trainable params: 0\n",
      "_________________________________________________________________\n"
     ]
    }
   ],
   "source": [
    "model.summary()"
   ]
  },
  {
   "cell_type": "code",
   "execution_count": 27,
   "id": "a7b09623",
   "metadata": {},
   "outputs": [
    {
     "data": {
      "text/plain": [
       "array([[[0.17323991],\n",
       "        [0.18235897],\n",
       "        [0.17839709],\n",
       "        ...,\n",
       "        [0.0904453 ],\n",
       "        [0.08586729],\n",
       "        [0.09080018]],\n",
       "\n",
       "       [[0.18235897],\n",
       "        [0.17839709],\n",
       "        [0.18189327],\n",
       "        ...,\n",
       "        [0.08586729],\n",
       "        [0.09080018],\n",
       "        [0.08541344]],\n",
       "\n",
       "       [[0.17839709],\n",
       "        [0.18189327],\n",
       "        [0.18605963],\n",
       "        ...,\n",
       "        [0.09080018],\n",
       "        [0.08541344],\n",
       "        [0.08561398]],\n",
       "\n",
       "       ...,\n",
       "\n",
       "       [[0.0904453 ],\n",
       "        [0.08586729],\n",
       "        [0.09080018],\n",
       "        ...,\n",
       "        [0.05907078],\n",
       "        [0.05502974],\n",
       "        [0.05651792]],\n",
       "\n",
       "       [[0.08586729],\n",
       "        [0.09080018],\n",
       "        [0.08541344],\n",
       "        ...,\n",
       "        [0.05502974],\n",
       "        [0.05651792],\n",
       "        [0.04865219]],\n",
       "\n",
       "       [[0.09080018],\n",
       "        [0.08541344],\n",
       "        [0.08561398],\n",
       "        ...,\n",
       "        [0.05651792],\n",
       "        [0.04865219],\n",
       "        [0.05130797]]])"
      ]
     },
     "execution_count": 27,
     "metadata": {},
     "output_type": "execute_result"
    }
   ],
   "source": [
    "X_train[:100]"
   ]
  },
  {
   "cell_type": "code",
   "execution_count": 28,
   "id": "39d81d81",
   "metadata": {},
   "outputs": [
    {
     "name": "stdout",
     "output_type": "stream",
     "text": [
      "Epoch 1/100\n",
      "32/32 [==============================] - 9s 167ms/step - loss: 0.0090 - val_loss: 0.0169\n",
      "Epoch 2/100\n",
      "32/32 [==============================] - 4s 123ms/step - loss: 4.9743e-04 - val_loss: 0.0017\n",
      "Epoch 3/100\n",
      "32/32 [==============================] - 4s 123ms/step - loss: 2.6959e-04 - val_loss: 0.0017\n",
      "Epoch 4/100\n",
      "32/32 [==============================] - 4s 119ms/step - loss: 2.5703e-04 - val_loss: 0.0016\n",
      "Epoch 5/100\n",
      "32/32 [==============================] - 4s 124ms/step - loss: 2.4627e-04 - val_loss: 0.0018\n",
      "Epoch 6/100\n",
      "32/32 [==============================] - 4s 122ms/step - loss: 2.5056e-04 - val_loss: 0.0016\n",
      "Epoch 7/100\n",
      "32/32 [==============================] - 4s 129ms/step - loss: 2.4111e-04 - val_loss: 0.0015\n",
      "Epoch 8/100\n",
      "32/32 [==============================] - 4s 120ms/step - loss: 2.4554e-04 - val_loss: 0.0015\n",
      "Epoch 9/100\n",
      "32/32 [==============================] - 4s 119ms/step - loss: 2.2781e-04 - val_loss: 0.0015\n",
      "Epoch 10/100\n",
      "32/32 [==============================] - 4s 128ms/step - loss: 2.2096e-04 - val_loss: 0.0013\n",
      "Epoch 11/100\n",
      "32/32 [==============================] - 4s 122ms/step - loss: 2.3659e-04 - val_loss: 0.0018\n",
      "Epoch 12/100\n",
      "32/32 [==============================] - 4s 119ms/step - loss: 2.2565e-04 - val_loss: 0.0015\n",
      "Epoch 13/100\n",
      "32/32 [==============================] - 4s 117ms/step - loss: 2.6561e-04 - val_loss: 0.0017\n",
      "Epoch 14/100\n",
      "32/32 [==============================] - 4s 117ms/step - loss: 2.2688e-04 - val_loss: 0.0055\n",
      "Epoch 15/100\n",
      "32/32 [==============================] - 4s 116ms/step - loss: 4.7075e-04 - val_loss: 0.0012\n",
      "Epoch 16/100\n",
      "32/32 [==============================] - 4s 120ms/step - loss: 2.0733e-04 - val_loss: 0.0012\n",
      "Epoch 17/100\n",
      "32/32 [==============================] - 4s 117ms/step - loss: 1.9704e-04 - val_loss: 0.0011\n",
      "Epoch 18/100\n",
      "32/32 [==============================] - 4s 116ms/step - loss: 1.8800e-04 - val_loss: 0.0011\n",
      "Epoch 19/100\n",
      "32/32 [==============================] - 4s 116ms/step - loss: 1.9285e-04 - val_loss: 0.0010\n",
      "Epoch 20/100\n",
      "32/32 [==============================] - 4s 122ms/step - loss: 2.1583e-04 - val_loss: 0.0011\n",
      "Epoch 21/100\n",
      "32/32 [==============================] - 4s 118ms/step - loss: 1.9248e-04 - val_loss: 9.9350e-04\n",
      "Epoch 22/100\n",
      "32/32 [==============================] - 4s 117ms/step - loss: 1.7858e-04 - val_loss: 9.1571e-04\n",
      "Epoch 23/100\n",
      "32/32 [==============================] - 4s 117ms/step - loss: 1.9048e-04 - val_loss: 0.0012\n",
      "Epoch 24/100\n",
      "32/32 [==============================] - 4s 121ms/step - loss: 1.8257e-04 - val_loss: 0.0011\n",
      "Epoch 25/100\n",
      "32/32 [==============================] - 4s 117ms/step - loss: 1.7144e-04 - val_loss: 0.0014\n",
      "Epoch 26/100\n",
      "32/32 [==============================] - 4s 117ms/step - loss: 1.9664e-04 - val_loss: 8.3159e-04\n",
      "Epoch 27/100\n",
      "32/32 [==============================] - 4s 117ms/step - loss: 1.6330e-04 - val_loss: 0.0011\n",
      "Epoch 28/100\n",
      "32/32 [==============================] - 4s 119ms/step - loss: 1.5904e-04 - val_loss: 8.6617e-04\n",
      "Epoch 29/100\n",
      "32/32 [==============================] - 4s 119ms/step - loss: 1.5638e-04 - val_loss: 7.5863e-04\n",
      "Epoch 30/100\n",
      "32/32 [==============================] - 4s 118ms/step - loss: 1.6006e-04 - val_loss: 8.1222e-04\n",
      "Epoch 31/100\n",
      "32/32 [==============================] - 4s 120ms/step - loss: 1.5366e-04 - val_loss: 8.9891e-04\n",
      "Epoch 32/100\n",
      "32/32 [==============================] - 4s 120ms/step - loss: 1.6284e-04 - val_loss: 7.0092e-04\n",
      "Epoch 33/100\n",
      "32/32 [==============================] - 4s 117ms/step - loss: 1.8694e-04 - val_loss: 0.0013\n",
      "Epoch 34/100\n",
      "32/32 [==============================] - 4s 117ms/step - loss: 1.7532e-04 - val_loss: 6.6055e-04\n",
      "Epoch 35/100\n",
      "32/32 [==============================] - 4s 117ms/step - loss: 1.4424e-04 - val_loss: 6.5373e-04\n",
      "Epoch 36/100\n",
      "32/32 [==============================] - 4s 116ms/step - loss: 1.3970e-04 - val_loss: 7.5420e-04\n",
      "Epoch 37/100\n",
      "32/32 [==============================] - 4s 119ms/step - loss: 1.5638e-04 - val_loss: 6.0672e-04\n",
      "Epoch 38/100\n",
      "32/32 [==============================] - 4s 119ms/step - loss: 1.3614e-04 - val_loss: 7.5604e-04\n",
      "Epoch 39/100\n",
      "32/32 [==============================] - 4s 119ms/step - loss: 1.4536e-04 - val_loss: 6.7479e-04\n",
      "Epoch 40/100\n",
      "32/32 [==============================] - 4s 123ms/step - loss: 1.4426e-04 - val_loss: 7.7023e-04\n",
      "Epoch 41/100\n",
      "32/32 [==============================] - 4s 130ms/step - loss: 1.3889e-04 - val_loss: 5.3436e-04\n",
      "Epoch 42/100\n",
      "32/32 [==============================] - 4s 123ms/step - loss: 1.2549e-04 - val_loss: 9.2267e-04\n",
      "Epoch 43/100\n",
      "32/32 [==============================] - 4s 120ms/step - loss: 1.3089e-04 - val_loss: 7.1248e-04\n",
      "Epoch 44/100\n",
      "32/32 [==============================] - 4s 123ms/step - loss: 1.2882e-04 - val_loss: 9.0727e-04\n",
      "Epoch 45/100\n",
      "32/32 [==============================] - 4s 120ms/step - loss: 1.4450e-04 - val_loss: 5.2987e-04\n",
      "Epoch 46/100\n",
      "32/32 [==============================] - 4s 124ms/step - loss: 1.2363e-04 - val_loss: 4.9480e-04\n",
      "Epoch 47/100\n",
      "32/32 [==============================] - 4s 119ms/step - loss: 1.2500e-04 - val_loss: 6.2700e-04\n",
      "Epoch 48/100\n",
      "32/32 [==============================] - 4s 118ms/step - loss: 1.1462e-04 - val_loss: 4.3682e-04\n",
      "Epoch 49/100\n",
      "32/32 [==============================] - 4s 119ms/step - loss: 1.1627e-04 - val_loss: 0.0015\n",
      "Epoch 50/100\n",
      "32/32 [==============================] - 4s 119ms/step - loss: 1.3109e-04 - val_loss: 8.5237e-04\n",
      "Epoch 51/100\n",
      "32/32 [==============================] - 4s 121ms/step - loss: 1.2371e-04 - val_loss: 9.2404e-04\n",
      "Epoch 52/100\n",
      "32/32 [==============================] - 4s 123ms/step - loss: 1.2128e-04 - val_loss: 5.6827e-04\n",
      "Epoch 53/100\n",
      "32/32 [==============================] - 4s 118ms/step - loss: 1.3541e-04 - val_loss: 6.6038e-04\n",
      "Epoch 54/100\n",
      "32/32 [==============================] - 4s 122ms/step - loss: 1.1272e-04 - val_loss: 8.3164e-04\n",
      "Epoch 55/100\n",
      "32/32 [==============================] - 4s 126ms/step - loss: 1.0656e-04 - val_loss: 4.7324e-04\n",
      "Epoch 56/100\n",
      "32/32 [==============================] - 4s 122ms/step - loss: 1.0733e-04 - val_loss: 4.0444e-04\n",
      "Epoch 57/100\n",
      "32/32 [==============================] - 4s 125ms/step - loss: 1.1391e-04 - val_loss: 6.8794e-04\n",
      "Epoch 58/100\n",
      "32/32 [==============================] - 4s 129ms/step - loss: 9.9962e-05 - val_loss: 3.7836e-04\n",
      "Epoch 59/100\n",
      "32/32 [==============================] - 4s 119ms/step - loss: 9.7595e-05 - val_loss: 4.0261e-04\n",
      "Epoch 60/100\n",
      "32/32 [==============================] - 4s 128ms/step - loss: 8.9271e-05 - val_loss: 3.7762e-04\n",
      "Epoch 61/100\n",
      "32/32 [==============================] - 4s 122ms/step - loss: 8.6885e-05 - val_loss: 7.3220e-04\n",
      "Epoch 62/100\n",
      "32/32 [==============================] - 4s 122ms/step - loss: 9.9892e-05 - val_loss: 6.3134e-04\n",
      "Epoch 63/100\n",
      "32/32 [==============================] - 4s 119ms/step - loss: 9.3443e-05 - val_loss: 5.5527e-04\n",
      "Epoch 64/100\n",
      "32/32 [==============================] - 4s 119ms/step - loss: 9.6581e-05 - val_loss: 3.3773e-04\n",
      "Epoch 65/100\n",
      "32/32 [==============================] - 4s 119ms/step - loss: 8.8258e-05 - val_loss: 3.8900e-04\n",
      "Epoch 66/100\n",
      "32/32 [==============================] - 4s 123ms/step - loss: 1.0189e-04 - val_loss: 3.4770e-04\n",
      "Epoch 67/100\n",
      "32/32 [==============================] - 4s 120ms/step - loss: 8.4991e-05 - val_loss: 3.0843e-04\n",
      "Epoch 68/100\n",
      "32/32 [==============================] - 4s 120ms/step - loss: 7.9111e-05 - val_loss: 4.9881e-04\n",
      "Epoch 69/100\n",
      "32/32 [==============================] - 4s 118ms/step - loss: 8.7495e-05 - val_loss: 0.0020\n",
      "Epoch 70/100\n",
      "32/32 [==============================] - 4s 123ms/step - loss: 1.3070e-04 - val_loss: 5.6766e-04\n",
      "Epoch 71/100\n",
      "32/32 [==============================] - 4s 118ms/step - loss: 9.0080e-05 - val_loss: 3.4846e-04\n",
      "Epoch 72/100\n",
      "32/32 [==============================] - 4s 125ms/step - loss: 7.4049e-05 - val_loss: 3.9124e-04\n",
      "Epoch 73/100\n",
      "32/32 [==============================] - 4s 120ms/step - loss: 7.7479e-05 - val_loss: 3.8937e-04\n",
      "Epoch 74/100\n",
      "32/32 [==============================] - 4s 123ms/step - loss: 7.0841e-05 - val_loss: 3.1057e-04\n",
      "Epoch 75/100\n",
      "32/32 [==============================] - 4s 119ms/step - loss: 6.6070e-05 - val_loss: 3.0905e-04\n",
      "Epoch 76/100\n"
     ]
    },
    {
     "name": "stdout",
     "output_type": "stream",
     "text": [
      "32/32 [==============================] - 4s 120ms/step - loss: 6.5421e-05 - val_loss: 7.3253e-04\n",
      "Epoch 77/100\n",
      "32/32 [==============================] - 4s 119ms/step - loss: 6.5687e-05 - val_loss: 2.7057e-04\n",
      "Epoch 78/100\n",
      "32/32 [==============================] - 4s 122ms/step - loss: 6.8796e-05 - val_loss: 2.6412e-04\n",
      "Epoch 79/100\n",
      "32/32 [==============================] - 4s 122ms/step - loss: 6.9675e-05 - val_loss: 2.6828e-04\n",
      "Epoch 80/100\n",
      "32/32 [==============================] - 4s 117ms/step - loss: 6.6312e-05 - val_loss: 6.0315e-04\n",
      "Epoch 81/100\n",
      "32/32 [==============================] - 4s 118ms/step - loss: 6.1807e-05 - val_loss: 3.0268e-04\n",
      "Epoch 82/100\n",
      "32/32 [==============================] - 4s 119ms/step - loss: 5.9776e-05 - val_loss: 2.9163e-04\n",
      "Epoch 83/100\n",
      "32/32 [==============================] - 4s 117ms/step - loss: 5.9783e-05 - val_loss: 2.5233e-04\n",
      "Epoch 84/100\n",
      "32/32 [==============================] - 4s 117ms/step - loss: 6.5389e-05 - val_loss: 3.3802e-04\n",
      "Epoch 85/100\n",
      "32/32 [==============================] - 4s 119ms/step - loss: 5.5753e-05 - val_loss: 2.8454e-04\n",
      "Epoch 86/100\n",
      "32/32 [==============================] - 4s 116ms/step - loss: 5.6141e-05 - val_loss: 2.7275e-04\n",
      "Epoch 87/100\n",
      "32/32 [==============================] - 4s 119ms/step - loss: 6.7942e-05 - val_loss: 4.9359e-04\n",
      "Epoch 88/100\n",
      "32/32 [==============================] - 4s 116ms/step - loss: 8.0405e-05 - val_loss: 3.0012e-04\n",
      "Epoch 89/100\n",
      "32/32 [==============================] - 4s 119ms/step - loss: 5.9944e-05 - val_loss: 6.2116e-04\n",
      "Epoch 90/100\n",
      "32/32 [==============================] - 4s 117ms/step - loss: 1.0764e-04 - val_loss: 2.9729e-04\n",
      "Epoch 91/100\n",
      "32/32 [==============================] - 4s 121ms/step - loss: 7.0187e-05 - val_loss: 2.7625e-04\n",
      "Epoch 92/100\n",
      "32/32 [==============================] - 4s 116ms/step - loss: 5.6427e-05 - val_loss: 2.4960e-04\n",
      "Epoch 93/100\n",
      "32/32 [==============================] - 4s 117ms/step - loss: 5.1125e-05 - val_loss: 4.7702e-04\n",
      "Epoch 94/100\n",
      "32/32 [==============================] - 4s 118ms/step - loss: 6.3179e-05 - val_loss: 4.1664e-04\n",
      "Epoch 95/100\n",
      "32/32 [==============================] - 4s 120ms/step - loss: 6.4594e-05 - val_loss: 2.4289e-04\n",
      "Epoch 96/100\n",
      "32/32 [==============================] - 4s 117ms/step - loss: 5.4282e-05 - val_loss: 9.4003e-04\n",
      "Epoch 97/100\n",
      "32/32 [==============================] - 4s 118ms/step - loss: 5.6349e-05 - val_loss: 4.0957e-04\n",
      "Epoch 98/100\n",
      "32/32 [==============================] - 4s 118ms/step - loss: 5.7212e-05 - val_loss: 3.8202e-04\n",
      "Epoch 99/100\n",
      "32/32 [==============================] - 4s 119ms/step - loss: 5.4460e-05 - val_loss: 2.7416e-04\n",
      "Epoch 100/100\n",
      "32/32 [==============================] - 4s 118ms/step - loss: 4.9595e-05 - val_loss: 7.7336e-04\n"
     ]
    },
    {
     "data": {
      "text/plain": [
       "<keras.callbacks.History at 0x1f17f60f040>"
      ]
     },
     "execution_count": 28,
     "metadata": {},
     "output_type": "execute_result"
    }
   ],
   "source": [
    "model.fit(X_train,Y_train,validation_data=(X_test,Ytest),epochs=100,batch_size=64,verbose=1)"
   ]
  },
  {
   "cell_type": "code",
   "execution_count": 30,
   "id": "4592b2fa",
   "metadata": {},
   "outputs": [
    {
     "name": "stdout",
     "output_type": "stream",
     "text": [
      "63/63 [==============================] - 2s 23ms/step\n",
      "33/33 [==============================] - 1s 23ms/step\n"
     ]
    }
   ],
   "source": [
    "### Letsdo the prediction and check performance metrics\n",
    "train_predict=model.predict(X_train)\n",
    "test_predict=model.predict(X_test)\n"
   ]
  },
  {
   "cell_type": "code",
   "execution_count": 31,
   "id": "7fce0776",
   "metadata": {},
   "outputs": [],
   "source": [
    "### Transformback to original form\n",
    "train_predict=scaler.inverse_transform(train_predict)\n",
    "test_predict=scaler.inverse_transform(test_predict)"
   ]
  },
  {
   "cell_type": "code",
   "execution_count": 32,
   "id": "15aaf242",
   "metadata": {},
   "outputs": [
    {
     "data": {
      "text/plain": [
       "28893.80007029278"
      ]
     },
     "execution_count": 32,
     "metadata": {},
     "output_type": "execute_result"
    }
   ],
   "source": [
    "### Calculate RMSE performance metrics\n",
    "import math\n",
    "from sklearn.metrics import mean_squared_error\n",
    "math.sqrt(mean_squared_error(Ytest,test_predict))"
   ]
  },
  {
   "cell_type": "code",
   "execution_count": 33,
   "id": "bc95b38a",
   "metadata": {},
   "outputs": [
    {
     "data": {
      "text/html": [
       "<div>\n",
       "<style scoped>\n",
       "    .dataframe tbody tr th:only-of-type {\n",
       "        vertical-align: middle;\n",
       "    }\n",
       "\n",
       "    .dataframe tbody tr th {\n",
       "        vertical-align: top;\n",
       "    }\n",
       "\n",
       "    .dataframe thead th {\n",
       "        text-align: right;\n",
       "    }\n",
       "</style>\n",
       "<table border=\"1\" class=\"dataframe\">\n",
       "  <thead>\n",
       "    <tr style=\"text-align: right;\">\n",
       "      <th></th>\n",
       "      <th>Open</th>\n",
       "      <th>High</th>\n",
       "      <th>Low</th>\n",
       "      <th>Close</th>\n",
       "      <th>Adj Close</th>\n",
       "      <th>Volume</th>\n",
       "      <th>overnight_returns</th>\n",
       "      <th>intraday_returns</th>\n",
       "    </tr>\n",
       "    <tr>\n",
       "      <th>Date</th>\n",
       "      <th></th>\n",
       "      <th></th>\n",
       "      <th></th>\n",
       "      <th></th>\n",
       "      <th></th>\n",
       "      <th></th>\n",
       "      <th></th>\n",
       "      <th></th>\n",
       "    </tr>\n",
       "  </thead>\n",
       "  <tbody>\n",
       "    <tr>\n",
       "      <th>2022-03-22</th>\n",
       "      <td>35975.601562</td>\n",
       "      <td>36468.800781</td>\n",
       "      <td>35384.750000</td>\n",
       "      <td>36348.550781</td>\n",
       "      <td>36348.550781</td>\n",
       "      <td>202900</td>\n",
       "      <td>-0.001191</td>\n",
       "      <td>0.010367</td>\n",
       "    </tr>\n",
       "    <tr>\n",
       "      <th>2022-03-23</th>\n",
       "      <td>36627.699219</td>\n",
       "      <td>36827.601562</td>\n",
       "      <td>36064.750000</td>\n",
       "      <td>36147.351562</td>\n",
       "      <td>36147.351562</td>\n",
       "      <td>197900</td>\n",
       "      <td>0.007680</td>\n",
       "      <td>-0.013114</td>\n",
       "    </tr>\n",
       "    <tr>\n",
       "      <th>2022-03-24</th>\n",
       "      <td>35633.699219</td>\n",
       "      <td>35957.699219</td>\n",
       "      <td>35421.699219</td>\n",
       "      <td>35527.101562</td>\n",
       "      <td>35527.101562</td>\n",
       "      <td>205200</td>\n",
       "      <td>-0.014210</td>\n",
       "      <td>-0.002991</td>\n",
       "    </tr>\n",
       "    <tr>\n",
       "      <th>2022-03-25</th>\n",
       "      <td>35700.398438</td>\n",
       "      <td>35717.398438</td>\n",
       "      <td>35203.851562</td>\n",
       "      <td>35410.101562</td>\n",
       "      <td>35410.101562</td>\n",
       "      <td>157000</td>\n",
       "      <td>0.004878</td>\n",
       "      <td>-0.008131</td>\n",
       "    </tr>\n",
       "    <tr>\n",
       "      <th>2022-03-28</th>\n",
       "      <td>35488.699219</td>\n",
       "      <td>35770.800781</td>\n",
       "      <td>35016.300781</td>\n",
       "      <td>35710.500000</td>\n",
       "      <td>35710.500000</td>\n",
       "      <td>197000</td>\n",
       "      <td>0.002220</td>\n",
       "      <td>0.006250</td>\n",
       "    </tr>\n",
       "  </tbody>\n",
       "</table>\n",
       "</div>"
      ],
      "text/plain": [
       "                    Open          High           Low         Close  \\\n",
       "Date                                                                 \n",
       "2022-03-22  35975.601562  36468.800781  35384.750000  36348.550781   \n",
       "2022-03-23  36627.699219  36827.601562  36064.750000  36147.351562   \n",
       "2022-03-24  35633.699219  35957.699219  35421.699219  35527.101562   \n",
       "2022-03-25  35700.398438  35717.398438  35203.851562  35410.101562   \n",
       "2022-03-28  35488.699219  35770.800781  35016.300781  35710.500000   \n",
       "\n",
       "               Adj Close  Volume  overnight_returns  intraday_returns  \n",
       "Date                                                                   \n",
       "2022-03-22  36348.550781  202900          -0.001191          0.010367  \n",
       "2022-03-23  36147.351562  197900           0.007680         -0.013114  \n",
       "2022-03-24  35527.101562  205200          -0.014210         -0.002991  \n",
       "2022-03-25  35410.101562  157000           0.004878         -0.008131  \n",
       "2022-03-28  35710.500000  197000           0.002220          0.006250  "
      ]
     },
     "execution_count": 33,
     "metadata": {},
     "output_type": "execute_result"
    }
   ],
   "source": [
    "# Compute the percentage change\n",
    "\n",
    "# Previous day close to today's open\n",
    "bn['overnight_returns'] = (\n",
    "    bn['Open']-bn['Close'].shift(1))/bn['Close'].shift(1)\n",
    "\n",
    "# Open to Close\n",
    "bn['intraday_returns'] = (bn['Close']-bn['Open'])/bn['Open']\n",
    "\n",
    "bn.tail()"
   ]
  },
  {
   "cell_type": "code",
   "execution_count": 34,
   "id": "8627eeca",
   "metadata": {},
   "outputs": [],
   "source": [
    "import numpy as np"
   ]
  },
  {
   "cell_type": "code",
   "execution_count": 35,
   "id": "ce9233d5",
   "metadata": {},
   "outputs": [
    {
     "data": {
      "text/html": [
       "<div>\n",
       "<style scoped>\n",
       "    .dataframe tbody tr th:only-of-type {\n",
       "        vertical-align: middle;\n",
       "    }\n",
       "\n",
       "    .dataframe tbody tr th {\n",
       "        vertical-align: top;\n",
       "    }\n",
       "\n",
       "    .dataframe thead th {\n",
       "        text-align: right;\n",
       "    }\n",
       "</style>\n",
       "<table border=\"1\" class=\"dataframe\">\n",
       "  <thead>\n",
       "    <tr style=\"text-align: right;\">\n",
       "      <th></th>\n",
       "      <th>Open</th>\n",
       "      <th>High</th>\n",
       "      <th>Low</th>\n",
       "      <th>Close</th>\n",
       "      <th>Adj Close</th>\n",
       "      <th>Volume</th>\n",
       "      <th>overnight_returns</th>\n",
       "      <th>intraday_returns</th>\n",
       "      <th>signal</th>\n",
       "    </tr>\n",
       "    <tr>\n",
       "      <th>Date</th>\n",
       "      <th></th>\n",
       "      <th></th>\n",
       "      <th></th>\n",
       "      <th></th>\n",
       "      <th></th>\n",
       "      <th></th>\n",
       "      <th></th>\n",
       "      <th></th>\n",
       "      <th></th>\n",
       "    </tr>\n",
       "  </thead>\n",
       "  <tbody>\n",
       "    <tr>\n",
       "      <th>2022-03-22</th>\n",
       "      <td>35975.601562</td>\n",
       "      <td>36468.800781</td>\n",
       "      <td>35384.750000</td>\n",
       "      <td>36348.550781</td>\n",
       "      <td>36348.550781</td>\n",
       "      <td>202900</td>\n",
       "      <td>-0.001191</td>\n",
       "      <td>0.010367</td>\n",
       "      <td>0</td>\n",
       "    </tr>\n",
       "    <tr>\n",
       "      <th>2022-03-23</th>\n",
       "      <td>36627.699219</td>\n",
       "      <td>36827.601562</td>\n",
       "      <td>36064.750000</td>\n",
       "      <td>36147.351562</td>\n",
       "      <td>36147.351562</td>\n",
       "      <td>197900</td>\n",
       "      <td>0.007680</td>\n",
       "      <td>-0.013114</td>\n",
       "      <td>0</td>\n",
       "    </tr>\n",
       "    <tr>\n",
       "      <th>2022-03-24</th>\n",
       "      <td>35633.699219</td>\n",
       "      <td>35957.699219</td>\n",
       "      <td>35421.699219</td>\n",
       "      <td>35527.101562</td>\n",
       "      <td>35527.101562</td>\n",
       "      <td>205200</td>\n",
       "      <td>-0.014210</td>\n",
       "      <td>-0.002991</td>\n",
       "      <td>1</td>\n",
       "    </tr>\n",
       "    <tr>\n",
       "      <th>2022-03-25</th>\n",
       "      <td>35700.398438</td>\n",
       "      <td>35717.398438</td>\n",
       "      <td>35203.851562</td>\n",
       "      <td>35410.101562</td>\n",
       "      <td>35410.101562</td>\n",
       "      <td>157000</td>\n",
       "      <td>0.004878</td>\n",
       "      <td>-0.008131</td>\n",
       "      <td>0</td>\n",
       "    </tr>\n",
       "    <tr>\n",
       "      <th>2022-03-28</th>\n",
       "      <td>35488.699219</td>\n",
       "      <td>35770.800781</td>\n",
       "      <td>35016.300781</td>\n",
       "      <td>35710.500000</td>\n",
       "      <td>35710.500000</td>\n",
       "      <td>197000</td>\n",
       "      <td>0.002220</td>\n",
       "      <td>0.006250</td>\n",
       "      <td>0</td>\n",
       "    </tr>\n",
       "  </tbody>\n",
       "</table>\n",
       "</div>"
      ],
      "text/plain": [
       "                    Open          High           Low         Close  \\\n",
       "Date                                                                 \n",
       "2022-03-22  35975.601562  36468.800781  35384.750000  36348.550781   \n",
       "2022-03-23  36627.699219  36827.601562  36064.750000  36147.351562   \n",
       "2022-03-24  35633.699219  35957.699219  35421.699219  35527.101562   \n",
       "2022-03-25  35700.398438  35717.398438  35203.851562  35410.101562   \n",
       "2022-03-28  35488.699219  35770.800781  35016.300781  35710.500000   \n",
       "\n",
       "               Adj Close  Volume  overnight_returns  intraday_returns  signal  \n",
       "Date                                                                           \n",
       "2022-03-22  36348.550781  202900          -0.001191          0.010367       0  \n",
       "2022-03-23  36147.351562  197900           0.007680         -0.013114       0  \n",
       "2022-03-24  35527.101562  205200          -0.014210         -0.002991       1  \n",
       "2022-03-25  35410.101562  157000           0.004878         -0.008131       0  \n",
       "2022-03-28  35710.500000  197000           0.002220          0.006250       0  "
      ]
     },
     "execution_count": 35,
     "metadata": {},
     "output_type": "execute_result"
    }
   ],
   "source": [
    "# Define your conditions on which you want to trade\n",
    "\n",
    "cond_1 = bn.overnight_returns < -0.01\n",
    "cond_2 = bn.overnight_returns > -0.02\n",
    "\n",
    "# Store it in the signal columns of dataframe data\n",
    "\n",
    "bn['signal'] = np.where(cond_1 & cond_2, 1, 0)\n",
    "\n",
    "bn.tail()"
   ]
  },
  {
   "cell_type": "code",
   "execution_count": 36,
   "id": "1db1ddf4",
   "metadata": {},
   "outputs": [
    {
     "data": {
      "text/html": [
       "<div>\n",
       "<style scoped>\n",
       "    .dataframe tbody tr th:only-of-type {\n",
       "        vertical-align: middle;\n",
       "    }\n",
       "\n",
       "    .dataframe tbody tr th {\n",
       "        vertical-align: top;\n",
       "    }\n",
       "\n",
       "    .dataframe thead th {\n",
       "        text-align: right;\n",
       "    }\n",
       "</style>\n",
       "<table border=\"1\" class=\"dataframe\">\n",
       "  <thead>\n",
       "    <tr style=\"text-align: right;\">\n",
       "      <th></th>\n",
       "      <th>Open</th>\n",
       "      <th>High</th>\n",
       "      <th>Low</th>\n",
       "      <th>Close</th>\n",
       "      <th>Adj Close</th>\n",
       "      <th>Volume</th>\n",
       "      <th>overnight_returns</th>\n",
       "      <th>intraday_returns</th>\n",
       "      <th>signal</th>\n",
       "    </tr>\n",
       "    <tr>\n",
       "      <th>Date</th>\n",
       "      <th></th>\n",
       "      <th></th>\n",
       "      <th></th>\n",
       "      <th></th>\n",
       "      <th></th>\n",
       "      <th></th>\n",
       "      <th></th>\n",
       "      <th></th>\n",
       "      <th></th>\n",
       "    </tr>\n",
       "  </thead>\n",
       "  <tbody>\n",
       "    <tr>\n",
       "      <th>2008-03-07</th>\n",
       "      <td>7474.299805</td>\n",
       "      <td>7474.299805</td>\n",
       "      <td>7064.500000</td>\n",
       "      <td>7268.149902</td>\n",
       "      <td>7268.149902</td>\n",
       "      <td>0</td>\n",
       "      <td>-0.015030</td>\n",
       "      <td>-0.027581</td>\n",
       "      <td>1</td>\n",
       "    </tr>\n",
       "    <tr>\n",
       "      <th>2008-03-10</th>\n",
       "      <td>7163.500000</td>\n",
       "      <td>7375.200195</td>\n",
       "      <td>6945.500000</td>\n",
       "      <td>7272.500000</td>\n",
       "      <td>7272.500000</td>\n",
       "      <td>0</td>\n",
       "      <td>-0.014398</td>\n",
       "      <td>0.015216</td>\n",
       "      <td>1</td>\n",
       "    </tr>\n",
       "    <tr>\n",
       "      <th>2008-03-11</th>\n",
       "      <td>7186.100098</td>\n",
       "      <td>7481.750000</td>\n",
       "      <td>7124.600098</td>\n",
       "      <td>7356.399902</td>\n",
       "      <td>7356.399902</td>\n",
       "      <td>0</td>\n",
       "      <td>-0.011880</td>\n",
       "      <td>0.023699</td>\n",
       "      <td>1</td>\n",
       "    </tr>\n",
       "    <tr>\n",
       "      <th>2008-03-13</th>\n",
       "      <td>7226.799805</td>\n",
       "      <td>7226.799805</td>\n",
       "      <td>6840.649902</td>\n",
       "      <td>6914.649902</td>\n",
       "      <td>6914.649902</td>\n",
       "      <td>0</td>\n",
       "      <td>-0.015630</td>\n",
       "      <td>-0.043193</td>\n",
       "      <td>1</td>\n",
       "    </tr>\n",
       "    <tr>\n",
       "      <th>2008-05-22</th>\n",
       "      <td>7283.600098</td>\n",
       "      <td>7288.649902</td>\n",
       "      <td>7132.299805</td>\n",
       "      <td>7147.299805</td>\n",
       "      <td>7147.299805</td>\n",
       "      <td>0</td>\n",
       "      <td>-0.012293</td>\n",
       "      <td>-0.018713</td>\n",
       "      <td>1</td>\n",
       "    </tr>\n",
       "  </tbody>\n",
       "</table>\n",
       "</div>"
      ],
      "text/plain": [
       "                   Open         High          Low        Close    Adj Close  \\\n",
       "Date                                                                          \n",
       "2008-03-07  7474.299805  7474.299805  7064.500000  7268.149902  7268.149902   \n",
       "2008-03-10  7163.500000  7375.200195  6945.500000  7272.500000  7272.500000   \n",
       "2008-03-11  7186.100098  7481.750000  7124.600098  7356.399902  7356.399902   \n",
       "2008-03-13  7226.799805  7226.799805  6840.649902  6914.649902  6914.649902   \n",
       "2008-05-22  7283.600098  7288.649902  7132.299805  7147.299805  7147.299805   \n",
       "\n",
       "            Volume  overnight_returns  intraday_returns  signal  \n",
       "Date                                                             \n",
       "2008-03-07       0          -0.015030         -0.027581       1  \n",
       "2008-03-10       0          -0.014398          0.015216       1  \n",
       "2008-03-11       0          -0.011880          0.023699       1  \n",
       "2008-03-13       0          -0.015630         -0.043193       1  \n",
       "2008-05-22       0          -0.012293         -0.018713       1  "
      ]
     },
     "execution_count": 36,
     "metadata": {},
     "output_type": "execute_result"
    }
   ],
   "source": [
    "bn.loc[bn.signal==1].head()"
   ]
  },
  {
   "cell_type": "code",
   "execution_count": 37,
   "id": "71b07748",
   "metadata": {},
   "outputs": [
    {
     "data": {
      "text/html": [
       "<div>\n",
       "<style scoped>\n",
       "    .dataframe tbody tr th:only-of-type {\n",
       "        vertical-align: middle;\n",
       "    }\n",
       "\n",
       "    .dataframe tbody tr th {\n",
       "        vertical-align: top;\n",
       "    }\n",
       "\n",
       "    .dataframe thead th {\n",
       "        text-align: right;\n",
       "    }\n",
       "</style>\n",
       "<table border=\"1\" class=\"dataframe\">\n",
       "  <thead>\n",
       "    <tr style=\"text-align: right;\">\n",
       "      <th></th>\n",
       "      <th>Open</th>\n",
       "      <th>High</th>\n",
       "      <th>Low</th>\n",
       "      <th>Close</th>\n",
       "      <th>Adj Close</th>\n",
       "      <th>Volume</th>\n",
       "      <th>overnight_returns</th>\n",
       "      <th>intraday_returns</th>\n",
       "      <th>signal</th>\n",
       "    </tr>\n",
       "    <tr>\n",
       "      <th>Date</th>\n",
       "      <th></th>\n",
       "      <th></th>\n",
       "      <th></th>\n",
       "      <th></th>\n",
       "      <th></th>\n",
       "      <th></th>\n",
       "      <th></th>\n",
       "      <th></th>\n",
       "      <th></th>\n",
       "    </tr>\n",
       "  </thead>\n",
       "  <tbody>\n",
       "    <tr>\n",
       "      <th>2022-02-11</th>\n",
       "      <td>38567.648438</td>\n",
       "      <td>38790.250000</td>\n",
       "      <td>38396.398438</td>\n",
       "      <td>38517.250000</td>\n",
       "      <td>38517.250000</td>\n",
       "      <td>155000</td>\n",
       "      <td>-0.011363</td>\n",
       "      <td>-0.001307</td>\n",
       "      <td>1</td>\n",
       "    </tr>\n",
       "    <tr>\n",
       "      <th>2022-02-28</th>\n",
       "      <td>35938.949219</td>\n",
       "      <td>36270.250000</td>\n",
       "      <td>35611.898438</td>\n",
       "      <td>36205.300781</td>\n",
       "      <td>36205.300781</td>\n",
       "      <td>238300</td>\n",
       "      <td>-0.013500</td>\n",
       "      <td>0.007411</td>\n",
       "      <td>1</td>\n",
       "    </tr>\n",
       "    <tr>\n",
       "      <th>2022-03-04</th>\n",
       "      <td>34526.101562</td>\n",
       "      <td>35097.750000</td>\n",
       "      <td>34094.101562</td>\n",
       "      <td>34407.800781</td>\n",
       "      <td>34407.800781</td>\n",
       "      <td>194500</td>\n",
       "      <td>-0.011968</td>\n",
       "      <td>-0.003426</td>\n",
       "      <td>1</td>\n",
       "    </tr>\n",
       "    <tr>\n",
       "      <th>2022-03-08</th>\n",
       "      <td>32531.900391</td>\n",
       "      <td>33263.550781</td>\n",
       "      <td>32155.349609</td>\n",
       "      <td>33158.101562</td>\n",
       "      <td>33158.101562</td>\n",
       "      <td>276800</td>\n",
       "      <td>-0.010324</td>\n",
       "      <td>0.019249</td>\n",
       "      <td>1</td>\n",
       "    </tr>\n",
       "    <tr>\n",
       "      <th>2022-03-24</th>\n",
       "      <td>35633.699219</td>\n",
       "      <td>35957.699219</td>\n",
       "      <td>35421.699219</td>\n",
       "      <td>35527.101562</td>\n",
       "      <td>35527.101562</td>\n",
       "      <td>205200</td>\n",
       "      <td>-0.014210</td>\n",
       "      <td>-0.002991</td>\n",
       "      <td>1</td>\n",
       "    </tr>\n",
       "  </tbody>\n",
       "</table>\n",
       "</div>"
      ],
      "text/plain": [
       "                    Open          High           Low         Close  \\\n",
       "Date                                                                 \n",
       "2022-02-11  38567.648438  38790.250000  38396.398438  38517.250000   \n",
       "2022-02-28  35938.949219  36270.250000  35611.898438  36205.300781   \n",
       "2022-03-04  34526.101562  35097.750000  34094.101562  34407.800781   \n",
       "2022-03-08  32531.900391  33263.550781  32155.349609  33158.101562   \n",
       "2022-03-24  35633.699219  35957.699219  35421.699219  35527.101562   \n",
       "\n",
       "               Adj Close  Volume  overnight_returns  intraday_returns  signal  \n",
       "Date                                                                           \n",
       "2022-02-11  38517.250000  155000          -0.011363         -0.001307       1  \n",
       "2022-02-28  36205.300781  238300          -0.013500          0.007411       1  \n",
       "2022-03-04  34407.800781  194500          -0.011968         -0.003426       1  \n",
       "2022-03-08  33158.101562  276800          -0.010324          0.019249       1  \n",
       "2022-03-24  35527.101562  205200          -0.014210         -0.002991       1  "
      ]
     },
     "execution_count": 37,
     "metadata": {},
     "output_type": "execute_result"
    }
   ],
   "source": [
    "bn.loc[bn.signal==1].tail()"
   ]
  },
  {
   "cell_type": "code",
   "execution_count": 38,
   "id": "764705ea",
   "metadata": {},
   "outputs": [],
   "source": [
    "# Compute the strategy returns\n",
    "strategy_returns = bn.signal * bn.intraday_returns"
   ]
  },
  {
   "cell_type": "code",
   "execution_count": 39,
   "id": "bfbf693f",
   "metadata": {},
   "outputs": [
    {
     "data": {
      "image/png": "[encoded data removed]",
      "text/plain": [
       "<Figure size 720x504 with 1 Axes>"
      ]
     },
     "metadata": {
      "needs_background": "light"
     },
     "output_type": "display_data"
    }
   ],
   "source": [
    "# Plot the cumulative strategy returns\n",
    "(strategy_returns+1).cumprod().plot(figsize=(10, 7), grid=True)\n",
    "plt.xlabel('Year')\n",
    "plt.ylabel('Cumulative Strategy Returns')\n",
    "plt.show()"
   ]
  },
  {
   "cell_type": "code",
   "execution_count": 40,
   "id": "0813dd85",
   "metadata": {},
   "outputs": [
    {
     "data": {
      "image/png": "[encoded data removed]",
      "text/plain": [
       "<Figure size 1080x504 with 1 Axes>"
      ]
     },
     "metadata": {
      "needs_background": "light"
     },
     "output_type": "display_data"
    }
   ],
   "source": [
    "(strategy_returns+1).cumprod().plot(figsize=(15, 7), grid=True, color='g')\n",
    "plt.xlabel('Year')\n",
    "plt.ylabel('Cumulative Strategy Returns')\n",
    "plt.show()"
   ]
  },
  {
   "cell_type": "markdown",
   "id": "b9ab95fe",
   "metadata": {},
   "source": [
    "# Detailed Performance Analysis"
   ]
  },
  {
   "cell_type": "markdown",
   "id": "6ef0fc3f",
   "metadata": {},
   "source": [
    "### pf.create_full_tear_sheet(strategy_returns)"
   ]
  },
  {
   "cell_type": "code",
   "execution_count": 41,
   "id": "8ac86a8c",
   "metadata": {},
   "outputs": [
    {
     "data": {
      "text/html": [
       "<table border=\"1\" class=\"dataframe\">\n",
       "  <thead>\n",
       "    <tr style=\"text-align: right;\"><th>Start date</th><td colspan=2>2008-01-01</td></tr>\n",
       "    <tr style=\"text-align: right;\"><th>End date</th><td colspan=2>2022-03-28</td></tr>\n",
       "    <tr style=\"text-align: right;\"><th>Total months</th><td colspan=2>153</td></tr>\n",
       "    <tr style=\"text-align: right;\">\n",
       "      <th></th>\n",
       "      <th>Backtest</th>\n",
       "    </tr>\n",
       "  </thead>\n",
       "  <tbody>\n",
       "    <tr>\n",
       "      <th>Annual return</th>\n",
       "      <td>0.1%</td>\n",
       "    </tr>\n",
       "    <tr>\n",
       "      <th>Cumulative returns</th>\n",
       "      <td>0.9%</td>\n",
       "    </tr>\n",
       "    <tr>\n",
       "      <th>Annual volatility</th>\n",
       "      <td>7.2%</td>\n",
       "    </tr>\n",
       "    <tr>\n",
       "      <th>Sharpe ratio</th>\n",
       "      <td>0.05</td>\n",
       "    </tr>\n",
       "    <tr>\n",
       "      <th>Calmar ratio</th>\n",
       "      <td>0.00</td>\n",
       "    </tr>\n",
       "    <tr>\n",
       "      <th>Stability</th>\n",
       "      <td>0.33</td>\n",
       "    </tr>\n",
       "    <tr>\n",
       "      <th>Max drawdown</th>\n",
       "      <td>-31.1%</td>\n",
       "    </tr>\n",
       "    <tr>\n",
       "      <th>Omega ratio</th>\n",
       "      <td>1.04</td>\n",
       "    </tr>\n",
       "    <tr>\n",
       "      <th>Sortino ratio</th>\n",
       "      <td>0.07</td>\n",
       "    </tr>\n",
       "    <tr>\n",
       "      <th>Skew</th>\n",
       "      <td>1.56</td>\n",
       "    </tr>\n",
       "    <tr>\n",
       "      <th>Kurtosis</th>\n",
       "      <td>90.44</td>\n",
       "    </tr>\n",
       "    <tr>\n",
       "      <th>Tail ratio</th>\n",
       "      <td>NaN</td>\n",
       "    </tr>\n",
       "    <tr>\n",
       "      <th>Daily value at risk</th>\n",
       "      <td>-0.9%</td>\n",
       "    </tr>\n",
       "  </tbody>\n",
       "</table>"
      ],
      "text/plain": [
       "<IPython.core.display.HTML object>"
      ]
     },
     "metadata": {},
     "output_type": "display_data"
    },
    {
     "data": {
      "image/png": "[encoded data removed]",
      "text/plain": [
       "<Figure size 1008x1728 with 3 Axes>"
      ]
     },
     "metadata": {},
     "output_type": "display_data"
    }
   ],
   "source": [
    "pf.create_simple_tear_sheet(strategy_returns)"
   ]
  },
  {
   "cell_type": "code",
   "execution_count": null,
   "id": "59d8507d",
   "metadata": {},
   "outputs": [],
   "source": []
  }
 ],
 "metadata": {
  "kernelspec": {
   "display_name": "Python 3 (ipykernel)",
   "language": "python",
   "name": "python3"
  },
  "language_info": {
   "codemirror_mode": {
    "name": "ipython",
    "version": 3
   },
   "file_extension": ".py",
   "mimetype": "text/x-python",
   "name": "python",
   "nbconvert_exporter": "python",
   "pygments_lexer": "ipython3",
   "version": "3.9.7"
  }
 },
 "nbformat": 4,
 "nbformat_minor": 5
}
